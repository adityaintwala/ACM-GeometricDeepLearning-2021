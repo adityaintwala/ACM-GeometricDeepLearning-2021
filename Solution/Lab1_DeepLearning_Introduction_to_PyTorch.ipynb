{
 "cells": [
  {
   "cell_type": "markdown",
   "metadata": {
    "id": "xvrobO8FmJpd"
   },
   "source": [
    "# ACM Summer School 2021\n",
    "\n",
    "## Lab : DeepLearning - Introduction to PyTorch\n",
    "## Presenter : Aditya Intwala\n",
    "\n",
    "![Status](https://img.shields.io/static/v1.svg?label=Status&message=Finished&color=green)\n",
    "\n",
    "**Exercise notebook:** \n",
    "[![View on Github](https://img.shields.io/static/v1.svg?logo=github&label=Repo&message=View%20On%20Github&color=lightgrey)](https://github.com/adityaintwala/ACM_DeepLearning_2021/blob/main/Lab1_DeepLearning_Introduction_to_PyTorch.ipynb)\n",
    "[![Open In Collab](https://colab.research.google.com/assets/colab-badge.svg)](https://colab.research.google.com/github/adityaintwala/ACM_DeepLearning_2021/blob/main/Lab1_DeepLearning_Introduction_to_PyTorch.ipynb)\n",
    "**Solution notebook:** \n",
    "[![View on Github](https://img.shields.io/static/v1.svg?logo=github&label=Repo&message=View%20On%20Github&color=lightgrey)](https://github.com/adityaintwala/ACM_DeepLearning_2021/blob/main/Solution/Lab1_DeepLearning_Introduction_to_PyTorch.ipynb)\n",
    "[![Open In Collab](https://colab.research.google.com/assets/colab-badge.svg)](https://colab.research.google.com/github/adityaintwala/ACM_DeepLearning_2021/blob/main/Solution/Lab1_DeepLearning_Introduction_to_PyTorch.ipynb)  \n",
    "\n",
    "*This is an solution version of the notebook for the Lab of Deep Learning session at ACM Summer School 2021.*"
   ]
  },
  {
   "cell_type": "markdown",
   "metadata": {
    "id": "vJZLbUsYmJpg"
   },
   "source": [
    "Welcome to PyTorch tutorial for the Deep Learning 2021 at the ACM Summer School! The following notebook is meant to give a short introduction to PyTorch basics, and get you setup for writing your own neural networks. PyTorch is an open source machine learning framework that allows you to write your own neural networks and optimize them efficiently. However, PyTorch is not the only framework of its kind. Alternatives to PyTorch include [TensorFlow](https://www.tensorflow.org/), [Keras](https://keras.io/api/) and [Caffe](http://caffe.berkeleyvision.org/).\n",
    "\n",
    "There are many great tutorials online, including the [\"60-min blitz\"](https://pytorch.org/tutorials/beginner/deep_learning_60min_blitz.html) on the official [PyTorch website](https://pytorch.org/tutorials/). \n"
   ]
  },
  {
   "cell_type": "code",
   "execution_count": 1,
   "metadata": {
    "id": "Luegvlm9mJpg"
   },
   "outputs": [],
   "source": [
    "## Standard libraries\n",
    "import os\n",
    "import math\n",
    "import numpy as np \n",
    "import time\n",
    "\n",
    "## Imports for plotting\n",
    "import matplotlib.pyplot as plt\n",
    "%matplotlib inline \n",
    "from matplotlib.colors import to_rgba\n",
    "import seaborn as sns\n",
    "sns.set()"
   ]
  },
  {
   "cell_type": "markdown",
   "metadata": {
    "id": "fAU-gzW8mJph"
   },
   "source": [
    "## The Basics of PyTorch\n",
    "\n",
    "We will start with reviewing the very basic concepts of PyTorch. As a prerequisite, we recommend to be familiar with the `numpy` package as most machine learning frameworks are based on very similar concepts. If you are not familiar with numpy yet, don't worry: here is a [tutorial](https://numpy.org/devdocs/user/quickstart.html) to go through. \n",
    "\n",
    "So, let's start with importing PyTorch. The package is called `torch`, based on its original framework [Torch](http://torch.ch/). As a first step, we can check its version:"
   ]
  },
  {
   "cell_type": "code",
   "execution_count": 2,
   "metadata": {
    "id": "cgWOto4fmJph"
   },
   "outputs": [
    {
     "name": "stdout",
     "output_type": "stream",
     "text": [
      "Using torch 1.6.0\n"
     ]
    }
   ],
   "source": [
    "import torch\n",
    "print(\"Using torch\", torch.__version__)"
   ]
  },
  {
   "cell_type": "markdown",
   "metadata": {
    "id": "43jmP3gTmJpi"
   },
   "source": [
    "As in every machine learning framework, PyTorch provides functions that are stochastic like generating random numbers. However, a very good practice is to setup your code to be reproducible with the exact same random numbers. This is why we set a seed below. "
   ]
  },
  {
   "cell_type": "code",
   "execution_count": 3,
   "metadata": {
    "id": "la8Q8m-0mJpi"
   },
   "outputs": [
    {
     "data": {
      "text/plain": [
       "<torch._C.Generator at 0x27e0926e2f0>"
      ]
     },
     "execution_count": 3,
     "metadata": {},
     "output_type": "execute_result"
    }
   ],
   "source": [
    "torch.manual_seed(7) # Setting the seed"
   ]
  },
  {
   "cell_type": "markdown",
   "metadata": {
    "id": "fn1vl-kHmJpi"
   },
   "source": [
    "### Tensors\n",
    "\n",
    "Tensors are the PyTorch equivalent to Numpy arrays, with the addition to also have support for GPU acceleration.\n",
    "The name \"tensor\" is a generalization of concepts you already know. For instance, a vector is a 1-D tensor, and a matrix a 2-D tensor. When working with neural networks, we will use tensors of various shapes and number of dimensions.\n",
    "\n",
    "Most common functions you know from numpy can be used on tensors as well. Actually, since numpy arrays are so similar to tensors, we can convert most tensors to numpy arrays (and back) but we don't need it too often.\n",
    "\n",
    "#### Initialization\n",
    "\n",
    "Let's first start by looking at different ways of creating a tensor. There are many possible options, the most simple one is to call `torch.Tensor` passing the desired shape as input argument:"
   ]
  },
  {
   "cell_type": "code",
   "execution_count": 4,
   "metadata": {
    "id": "YgxKIi7tmJpj"
   },
   "outputs": [
    {
     "name": "stdout",
     "output_type": "stream",
     "text": [
      "tensor([[1.3542e-05, 1.3028e-11, 6.7200e-07],\n",
      "        [6.7876e-07, 8.4936e+20, 1.6517e-04]])\n",
      "tensor([[[0.0000e+00, 1.6395e-43, 7.7052e+31, 7.2148e+22],\n",
      "         [2.5226e-18, 2.5930e-09, 1.0356e-11, 7.7194e-10],\n",
      "         [6.6022e-07, 4.0745e-11, 1.7664e-04, 2.9574e-18]],\n",
      "\n",
      "        [[6.7333e+22, 1.7591e+22, 1.7184e+25, 4.3222e+27],\n",
      "         [6.1972e-04, 7.2443e+22, 1.7728e+28, 7.0367e+22],\n",
      "         [9.4429e-09, 1.3542e-05, 1.3028e-11, 6.7200e-07]]])\n"
     ]
    }
   ],
   "source": [
    "x = torch.Tensor(2, 3)\n",
    "print(x)\n",
    "y = torch.Tensor(2, 3, 4)\n",
    "print(y)"
   ]
  },
  {
   "cell_type": "markdown",
   "metadata": {
    "id": "CoOnc8QSmJpm"
   },
   "source": [
    "The function `torch.Tensor` allocates memory for the desired tensor, but reuses any values that have already been in the memory. To directly assign values to the tensor during initialization, there are many alternatives including:\n",
    "\n",
    "* `torch.zeros`: Creates a tensor filled with zeros\n",
    "* `torch.ones`: Creates a tensor filled with ones\n",
    "* `torch.rand`: Creates a tensor with random values uniformly sampled between 0 and 1\n",
    "* `torch.randn`: Creates a tensor with random values sampled from a normal distribution with mean 0 and variance 1\n",
    "* `torch.arange`: Creates a tensor containing the values $N,N+1,N+2,...,M$\n",
    "* `torch.Tensor` (input list): Creates a tensor from the list elements you provide\n",
    "* `torch.from_numpy`: Converts a numpy array into a PyTorch tensor"
   ]
  },
  {
   "cell_type": "code",
   "execution_count": 5,
   "metadata": {
    "id": "YKTsR1vmmJpn"
   },
   "outputs": [
    {
     "name": "stdout",
     "output_type": "stream",
     "text": [
      "tensor([[25.,  4.],\n",
      "        [50.,  2.]])\n"
     ]
    }
   ],
   "source": [
    "## TODO: Create a tensor from the list [[25, 4], [50, 2]]\n",
    "x = torch.Tensor([[25, 4], [50, 2]])\n",
    "print(x)"
   ]
  },
  {
   "cell_type": "code",
   "execution_count": 6,
   "metadata": {
    "id": "qfi2fLEwmJpo"
   },
   "outputs": [
    {
     "name": "stdout",
     "output_type": "stream",
     "text": [
      "tensor([[[0.5349, 0.1988],\n",
      "         [0.6592, 0.6569],\n",
      "         [0.2328, 0.4251]],\n",
      "\n",
      "        [[0.2071, 0.6297],\n",
      "         [0.3653, 0.8513],\n",
      "         [0.8549, 0.5509]],\n",
      "\n",
      "        [[0.2868, 0.2063],\n",
      "         [0.4451, 0.3593],\n",
      "         [0.7204, 0.0731]],\n",
      "\n",
      "        [[0.9699, 0.1078],\n",
      "         [0.8829, 0.4132],\n",
      "         [0.7572, 0.6948]]])\n"
     ]
    }
   ],
   "source": [
    "## TODO: Create a tensor with random values between 0 and 1 with the shape [4, 3, 2]\n",
    "x = torch.rand(4, 3, 2)\n",
    "print(x)"
   ]
  },
  {
   "cell_type": "markdown",
   "metadata": {
    "id": "wHkJyqrRmJpp"
   },
   "source": [
    "You can obtain the shape of a tensor in the same way as in numpy (`x.shape`), or using the `.size` method:"
   ]
  },
  {
   "cell_type": "code",
   "execution_count": 7,
   "metadata": {
    "id": "lWZaW5iamJpq"
   },
   "outputs": [
    {
     "name": "stdout",
     "output_type": "stream",
     "text": [
      "Shape: torch.Size([4, 3, 2])\n",
      "Size: torch.Size([4, 3, 2])\n",
      "Size: 4 3 2\n"
     ]
    }
   ],
   "source": [
    "shape = x.shape\n",
    "print(\"Shape:\", x.shape)\n",
    "\n",
    "size = x.size()\n",
    "print(\"Size:\", size)\n",
    "\n",
    "dim1, dim2, dim3 = x.size()\n",
    "print(\"Size:\", dim1, dim2, dim3)"
   ]
  },
  {
   "cell_type": "markdown",
   "metadata": {
    "id": "Pv36R_PWmJpr"
   },
   "source": [
    "#### Operations\n",
    "\n",
    "Most operations that exist in numpy, also exist in PyTorch. A full list of operations can be found in the [PyTorch documentation](https://pytorch.org/docs/stable/tensors.html#), but we will review the most important ones here.\n",
    "\n",
    "The simplest operation is to add two tensors:"
   ]
  },
  {
   "cell_type": "code",
   "execution_count": 8,
   "metadata": {
    "id": "Ku2u5KuAmJps"
   },
   "outputs": [
    {
     "name": "stdout",
     "output_type": "stream",
     "text": [
      "X1 tensor([[0.5209, 0.5932, 0.8797],\n",
      "        [0.6286, 0.7653, 0.1132]])\n",
      "X2 tensor([[0.8559, 0.6721, 0.6267],\n",
      "        [0.5691, 0.7437, 0.9592]])\n",
      "Y tensor([[1.3769, 1.2653, 1.5064],\n",
      "        [1.1977, 1.5090, 1.0724]])\n"
     ]
    }
   ],
   "source": [
    "x1 = torch.rand(2, 3)\n",
    "x2 = torch.rand(2, 3)\n",
    "\n",
    "## TODO: Sum up the tensors x1 and x2, and store the result in y\n",
    "y = x1 + x2\n",
    "\n",
    "print(\"X1\", x1)\n",
    "print(\"X2\", x2)\n",
    "print(\"Y\", y)"
   ]
  },
  {
   "cell_type": "markdown",
   "metadata": {
    "id": "ytoEPGqSmJps"
   },
   "source": [
    "Calling `x1 + x2` creates a new tensor containing the sum of the two inputs. However, we can also use in-place operations that are applied directly on the memory of a tensor. We therefore change the values of `x2` without the chance to re-accessing the values of `x2` before the operation. An example is shown below:"
   ]
  },
  {
   "cell_type": "code",
   "execution_count": 9,
   "metadata": {
    "id": "FlCqfsNnmJps"
   },
   "outputs": [
    {
     "name": "stdout",
     "output_type": "stream",
     "text": [
      "X1 (before) tensor([[0.3887, 0.2214, 0.3742],\n",
      "        [0.1953, 0.7405, 0.2529]])\n",
      "X2 (before) tensor([[0.2332, 0.9314, 0.9575],\n",
      "        [0.5575, 0.4134, 0.4355]])\n",
      "X1 (after) tensor([[0.3887, 0.2214, 0.3742],\n",
      "        [0.1953, 0.7405, 0.2529]])\n",
      "X2 (after) tensor([[0.6219, 1.1529, 1.3317],\n",
      "        [0.7528, 1.1539, 0.6883]])\n"
     ]
    }
   ],
   "source": [
    "x1 = torch.rand(2, 3)\n",
    "x2 = torch.rand(2, 3)\n",
    "print(\"X1 (before)\", x1)\n",
    "print(\"X2 (before)\", x2)\n",
    "\n",
    "x2.add_(x1)\n",
    "print(\"X1 (after)\", x1)\n",
    "print(\"X2 (after)\", x2)"
   ]
  },
  {
   "cell_type": "markdown",
   "metadata": {
    "id": "DwZwz_iLmJpt"
   },
   "source": [
    "In-place operations are usually marked with a underscore postfix (e.g. \"add_\" instead of \"add\").\n",
    "\n",
    "Another common operation aims at changing the shape of a tensor. A tensor of size (2,3) can be re-organized to any other shape with the same number of elements (e.g. a tensor of size (6), or (3,2), ...). In PyTorch, this operation is called `view`:"
   ]
  },
  {
   "cell_type": "code",
   "execution_count": 10,
   "metadata": {
    "id": "ajq4CbbMmJpt"
   },
   "outputs": [
    {
     "name": "stdout",
     "output_type": "stream",
     "text": [
      "X tensor([0, 1, 2, 3, 4, 5])\n"
     ]
    }
   ],
   "source": [
    "## TODO: Create a tensor with the input values [0, .., 5] (i.e. a range to 6)\n",
    "x = torch.arange(6)\n",
    "print(\"X\", x)"
   ]
  },
  {
   "cell_type": "code",
   "execution_count": 11,
   "metadata": {
    "id": "ouGmhDDtmJpt"
   },
   "outputs": [
    {
     "name": "stdout",
     "output_type": "stream",
     "text": [
      "X tensor([[0, 1, 2],\n",
      "        [3, 4, 5]])\n"
     ]
    }
   ],
   "source": [
    "x = x.view(2, 3)\n",
    "print(\"X\", x)"
   ]
  },
  {
   "cell_type": "code",
   "execution_count": 12,
   "metadata": {
    "id": "pZllx0XbmJpt"
   },
   "outputs": [
    {
     "name": "stdout",
     "output_type": "stream",
     "text": [
      "X tensor([[0, 3],\n",
      "        [1, 4],\n",
      "        [2, 5]])\n"
     ]
    }
   ],
   "source": [
    "x = x.permute(1, 0) # Swapping dimension 0 and 1\n",
    "print(\"X\", x)"
   ]
  },
  {
   "cell_type": "markdown",
   "metadata": {
    "id": "DLSkLe3wmJpu"
   },
   "source": [
    "Other commonly used operations include matrix multiplications, which are essential for neural networks. Quite often, we have an input vector $\\mathbf{x}$, which is transformed using a learned weight matrix $\\mathbf{W}$. There are multiple ways and functions to perform matrix multiplication, some of which we list below:\n",
    "\n",
    "* `torch.matmul`: Performs the matrix product over two tensors, where the specific behavior depends on the dimensions. If both inputs are matrices (2-dimensional tensors), it performs the standard matrix product. For higher dimensional inputs, the function supports broadcasting (for details see the [documentation](https://pytorch.org/docs/stable/generated/torch.matmul.html?highlight=matmul#torch.matmul)). Can also be written as `a @ b`, similar to numpy. \n",
    "* `torch.mm`: Performs the matrix product over two matrices, but doesn't support broadcasting (see [documentation](https://pytorch.org/docs/stable/generated/torch.mm.html?highlight=torch%20mm#torch.mm))\n",
    "* `torch.bmm`: Performs the matrix product with a support batch dimension. If the first tensor $T$ is of shape ($b\\times n\\times m$), and the second tensor $R$ ($b\\times m\\times p$), the output $O$ is of shape ($b\\times n\\times p$), and has been calculated by performing $b$ matrix multiplications of the submatrices of $T$ and $R$: $O_i = T_i @ R_i$\n",
    "* `torch.einsum`: Performs matrix multiplications and more (i.e. sums of products) using the Einstein summation convention. Explanation of the Einstein sum can be found in assignment 1.\n",
    "\n",
    "Usually, we use `torch.matmul` or `torch.bmm`. We can try a matrix multiplication with `torch.matmul` below."
   ]
  },
  {
   "cell_type": "code",
   "execution_count": 13,
   "metadata": {
    "id": "slxiuKT7mJpu"
   },
   "outputs": [
    {
     "name": "stdout",
     "output_type": "stream",
     "text": [
      "X tensor([[0, 1, 2],\n",
      "        [3, 4, 5]])\n"
     ]
    }
   ],
   "source": [
    "x = torch.arange(6)\n",
    "x = x.view(2, 3)\n",
    "print(\"X\", x)"
   ]
  },
  {
   "cell_type": "code",
   "execution_count": 14,
   "metadata": {
    "id": "uJudqXo-mJpv"
   },
   "outputs": [
    {
     "name": "stdout",
     "output_type": "stream",
     "text": [
      "W tensor([[0, 1, 2],\n",
      "        [3, 4, 5],\n",
      "        [6, 7, 8]])\n"
     ]
    }
   ],
   "source": [
    "W = torch.arange(9).view(3, 3) # We can also stack multiple operations in a single line\n",
    "print(\"W\", W)"
   ]
  },
  {
   "cell_type": "code",
   "execution_count": 15,
   "metadata": {
    "id": "S7fkb6OamJpv"
   },
   "outputs": [
    {
     "name": "stdout",
     "output_type": "stream",
     "text": [
      "h tensor([[15, 18, 21],\n",
      "        [42, 54, 66]])\n"
     ]
    }
   ],
   "source": [
    "## TODO: Perform a matrix multiplication between x and W\n",
    "h = torch.matmul(x, W) \n",
    "print(\"h\", h)\n",
    "# Verify the result by calculating it by hand too!"
   ]
  },
  {
   "cell_type": "markdown",
   "metadata": {
    "id": "wSXfdKWTmJpv"
   },
   "source": [
    "#### Indexing\n",
    "\n",
    "We often have the situation where we need to select a part of a tensor. Indexing works just like in numpy, so let's try it:"
   ]
  },
  {
   "cell_type": "code",
   "execution_count": 16,
   "metadata": {
    "id": "n-wYiEP9mJpw"
   },
   "outputs": [
    {
     "name": "stdout",
     "output_type": "stream",
     "text": [
      "X tensor([[ 0,  1,  2,  3],\n",
      "        [ 4,  5,  6,  7],\n",
      "        [ 8,  9, 10, 11]])\n"
     ]
    }
   ],
   "source": [
    "x = torch.arange(12).view(3, 4)\n",
    "print(\"X\", x)"
   ]
  },
  {
   "cell_type": "code",
   "execution_count": 17,
   "metadata": {
    "id": "-ydsFgKImJpw"
   },
   "outputs": [
    {
     "name": "stdout",
     "output_type": "stream",
     "text": [
      "tensor([1, 5, 9])\n"
     ]
    }
   ],
   "source": [
    "## TODO: Print the second column of the tensor x\n",
    "print(x[:, 1]) "
   ]
  },
  {
   "cell_type": "code",
   "execution_count": 18,
   "metadata": {
    "id": "a1e7LFD-mJpx"
   },
   "outputs": [
    {
     "name": "stdout",
     "output_type": "stream",
     "text": [
      "tensor([0, 1, 2, 3])\n"
     ]
    }
   ],
   "source": [
    "## TODO: Print the first row of the tensor x\n",
    "print(x[0])"
   ]
  },
  {
   "cell_type": "code",
   "execution_count": 19,
   "metadata": {
    "id": "e5MHj0AAmJpx"
   },
   "outputs": [
    {
     "name": "stdout",
     "output_type": "stream",
     "text": [
      "tensor([3, 7])\n"
     ]
    }
   ],
   "source": [
    "## TODO: Print the elements of the tensor x that are both in first two rows and the last column \n",
    "print(x[:2, -1])"
   ]
  },
  {
   "cell_type": "code",
   "execution_count": 20,
   "metadata": {
    "id": "cKX077EcmJpx"
   },
   "outputs": [
    {
     "name": "stdout",
     "output_type": "stream",
     "text": [
      "tensor([[ 4,  5,  6,  7],\n",
      "        [ 8,  9, 10, 11]])\n"
     ]
    }
   ],
   "source": [
    "## TODO: Print the middle two rows of tensor x\n",
    "print(x[1:3, :])"
   ]
  },
  {
   "cell_type": "markdown",
   "metadata": {
    "id": "XafS-KDNmJpy"
   },
   "source": [
    "### Dynamic Computation Graph and Backpropagation\n",
    "\n",
    "One of the main reasons for using PyTorch in Deep Learning projects is that we can automatically get **gradients/derivatives** of functions that we define. We will mainly use PyTorch for implementing neural networks, and they are just fancy functions. If we use weight matrices in our function that we want to learn, then those are called the **parameters** or simply the **weights**.\n",
    "\n",
    "If our neural network would output a single scalar value, we would talk about taking the **derivative**, but you will see that quite often we will have **multiple** output variables (\"values\"); in that case we talk about **gradients**. It's a more general term.\n",
    "\n",
    "Given an input $\\mathbf{x}$, we define our function by **manipulating** that input, usually by matrix-multiplications with weight matrices and additions with so-called bias vectors. As we manipulate our input, we are automatically creating a **computational graph**. This graph shows how to arrive at our output from our input. \n",
    "PyTorch is a **define-by-run** framework; this means that we can just do our manipulations, and PyTorch will keep track of that graph for us. Thus, we create a dynamic computation graph along the way.\n",
    "\n",
    "So, to recap: the only thing we have to do is to compute the **output**, and then we can ask PyTorch to automatically get the **gradients**. \n",
    "\n",
    "> **Note:  Why do we want gradients?** Consider that we have defined a function, a neural net, that is supposed to compute a certain output $y$ for an input vector $\\mathbf{x}$. We then define an **error measure** that tells us how wrong our network is; how bad it is in predicting output $y$ from input $\\mathbf{x}$. Based on this error measure, we can use the gradients to **update** the weights $\\mathbf{W}$ that were responsible for the output, so that the next time we present input $\\mathbf{x}$ to our network, the output will be closer to what we want.\n",
    "\n",
    "The first thing we have to do is to specify which tensors require gradients. By default, when we create a tensor, it does not require gradients."
   ]
  },
  {
   "cell_type": "code",
   "execution_count": 21,
   "metadata": {
    "id": "Facxlx-umJpy"
   },
   "outputs": [
    {
     "name": "stdout",
     "output_type": "stream",
     "text": [
      "False\n"
     ]
    }
   ],
   "source": [
    "x = torch.ones((3,))\n",
    "print(x.requires_grad)"
   ]
  },
  {
   "cell_type": "markdown",
   "metadata": {
    "id": "0-8dR8A5mJpy"
   },
   "source": [
    "We can change this for an existing tensor using the function `requires_grad_()` (underscore indicating that this is a in-place operation). Alternatively, when creating a tensor, you can pass the argument `requires_grad=True` to most initializers we have seen above."
   ]
  },
  {
   "cell_type": "code",
   "execution_count": 22,
   "metadata": {
    "id": "gssDovRXmJpy"
   },
   "outputs": [
    {
     "name": "stdout",
     "output_type": "stream",
     "text": [
      "True\n"
     ]
    }
   ],
   "source": [
    "x.requires_grad_(True)\n",
    "print(x.requires_grad)"
   ]
  },
  {
   "cell_type": "markdown",
   "metadata": {
    "id": "GZ45PmZ2mJpz"
   },
   "source": [
    "In order to get familiar with the concept of a computation graph, we will create one for the following function:\n",
    "\n",
    "$$y = \\frac{1}{|x|}\\sum_i \\left[(x_i + 4)^2 + 9\\right]$$\n",
    "\n",
    "You could imagine that $x$ are our parameters, and we want to optimize (either maximize or minimize) the output $y$. For this, we want to obtain the gradients $\\partial y / \\partial \\mathbf{x}$. For our example, we'll use $\\mathbf{x}=[0,1,2]$ as our input."
   ]
  },
  {
   "cell_type": "code",
   "execution_count": 23,
   "metadata": {
    "id": "1LpQn_HZmJpz"
   },
   "outputs": [
    {
     "name": "stdout",
     "output_type": "stream",
     "text": [
      "X tensor([0., 1., 2.], requires_grad=True)\n"
     ]
    }
   ],
   "source": [
    "## TODO: Create a tensor with values [0.0, 1.0, 2.0] which is requires gradients\n",
    "# Note that only float tensors can have gradients\n",
    "x = torch.arange(3, dtype=torch.float32, requires_grad=True)\n",
    "print(\"X\", x)"
   ]
  },
  {
   "cell_type": "markdown",
   "metadata": {
    "id": "wRhZ4tAUmJpz"
   },
   "source": [
    "Now let's build the computation graph step by step. You can combine multiple operations in a single line, but we will separate them here to get a better understanding of how each operation is added to the computation graph."
   ]
  },
  {
   "cell_type": "code",
   "execution_count": 24,
   "metadata": {
    "id": "jpxordqtmJpz"
   },
   "outputs": [
    {
     "name": "stdout",
     "output_type": "stream",
     "text": [
      "Y tensor(34.6667, grad_fn=<MeanBackward0>)\n"
     ]
    }
   ],
   "source": [
    "## TODO: Implement the function above in four steps, each representing one single operation (add -> a, square -> b, add -> c, mean -> y)\n",
    "a = x + 4\n",
    "b = a ** 2\n",
    "c = b + 9\n",
    "y = c.mean()\n",
    "print(\"Y\", y)"
   ]
  },
  {
   "cell_type": "markdown",
   "metadata": {
    "id": "ZDKsddoUmJpz"
   },
   "source": [
    "Using the statements above, we have created a computation graph that looks similar to the figure below:\n",
    "\n",
    "<center style=\"width: 100%\"><img src=\"https://github.com/adityaintwala/ACM_DeepLearning_2021/blob/b10d477bc9ffa98d399e7ab38e3fa496b052a707/Data/Doc/dynamic_computation_graph.PNG?raw=1\" width=\"200px\"></center>\n",
    "\n",
    "We calculate $a$ based on the inputs $x$ and the constant $4$, $b$ is $a$ squared, and so on. The visualization is an abstraction of the dependencies between inputs and outputs of the operations we have applied.\n",
    "Each node of the computation graph has automatically defined a function for calculating the gradients with respect to its inputs, `grad_fn`. You can see this when we printed the output tensor $y$. This is why the computation graph is usually visualized in the reverse direction (arrows point from the result to the inputs). We can perform backpropagation on the computation graph by calling the function `backward()` on the last output, which effectively calculates the gradients for each tensor that has the property `requires_grad=True`:"
   ]
  },
  {
   "cell_type": "code",
   "execution_count": 25,
   "metadata": {
    "id": "xaCPYOtLmJp0"
   },
   "outputs": [],
   "source": [
    "y.backward()"
   ]
  },
  {
   "cell_type": "markdown",
   "metadata": {
    "id": "qcHPYQXRmJp0"
   },
   "source": [
    "`x.grad` will now contain the gradient $\\partial y/ \\partial \\mathcal{x}$, and this gradient indicates how a change in $\\mathbf{x}$ will affect output $y$ given the current input $\\mathbf{x}=[0,1,2]$:"
   ]
  },
  {
   "cell_type": "code",
   "execution_count": 26,
   "metadata": {
    "id": "v8DdHClOmJp0"
   },
   "outputs": [
    {
     "name": "stdout",
     "output_type": "stream",
     "text": [
      "tensor([2.6667, 3.3333, 4.0000])\n"
     ]
    }
   ],
   "source": [
    "print(x.grad)"
   ]
  },
  {
   "cell_type": "markdown",
   "metadata": {
    "id": "IVlGuT06mJp0"
   },
   "source": [
    "We can also verify these gradients by hand. We will calculate the gradients using the chain rule, in the same way as PyTorch did it:\n",
    "\n",
    "$$\\frac{\\partial y}{\\partial x_i} = \\frac{\\partial y}{\\partial c_i}\\frac{\\partial c_i}{\\partial b_i}\\frac{\\partial b_i}{\\partial a_i}\\frac{\\partial a_i}{\\partial x_i}$$\n",
    "\n",
    "Note that we have simplified this equation to index notation, and by using the fact that all operation besides the mean do not combine the elements in the tensor. The partial derivatives are:\n",
    "\n",
    "$$\n",
    "\\frac{\\partial a_i}{\\partial x_i} = 1,\\hspace{1cm}\n",
    "\\frac{\\partial b_i}{\\partial a_i} = 2\\cdot a_i\\hspace{1cm}\n",
    "\\frac{\\partial c_i}{\\partial b_i} = 1\\hspace{1cm}\n",
    "\\frac{\\partial y}{\\partial c_i} = \\frac{1}{3}\n",
    "$$\n",
    "\n",
    "Hence, with the input being $\\mathbf{x}=[0,1,2]$, our gradients are $\\partial y/\\partial \\mathbf{x}=[8/3,10/3,4]$. The previous code cell should have printed the same result."
   ]
  },
  {
   "cell_type": "markdown",
   "metadata": {
    "id": "epWXbjpYmJp0"
   },
   "source": [
    "### GPU support\n",
    "\n",
    "A crucial feature of PyTorch is the support of GPUs, short for Graphics Processing Unit. A GPU can perform many thousands of small operations in parallel, making it very well suitable for performing large matrix operations in neural networks. When comparing GPUs to CPUs, we can list the following main differences (credit: [Kevin Krewell, 2009](https://blogs.nvidia.com/blog/2009/12/16/whats-the-difference-between-a-cpu-and-a-gpu/)) \n",
    "\n",
    "<center style=\"width: 100%\"><img src=\"https://github.com/adityaintwala/ACM_DeepLearning_2021/blob/main/Data/Doc/CPU_GPU.PNG?raw=1\" width=\"700px\"></center>\n",
    "\n",
    "CPUs and GPUs have both different advantages and disadvantages, which is why many computers contain both components and use them for different tasks. In case you are not familiar with GPUs, you can read up more details in this [NVIDIA blog post](https://blogs.nvidia.com/blog/2009/12/16/whats-the-difference-between-a-cpu-and-a-gpu/) or [here](https://www.intel.com/content/www/us/en/products/docs/processors/what-is-a-gpu.html). \n",
    "\n",
    "GPUs can accelerate the training of your network up to a factor of $100$ which is essential for large neural networks. PyTorch implements a lot of functionality for supporting GPUs (mostly those of NVIDIA due to the libraries [CUDA](https://developer.nvidia.com/cuda-zone) and [cuDNN](https://developer.nvidia.com/cudnn)). First, let's check whether you have a GPU available:"
   ]
  },
  {
   "cell_type": "code",
   "execution_count": 27,
   "metadata": {
    "id": "0fTXGN5ZmJp1"
   },
   "outputs": [
    {
     "name": "stdout",
     "output_type": "stream",
     "text": [
      "Is the GPU available? False\n"
     ]
    }
   ],
   "source": [
    "gpu_avail = torch.cuda.is_available()\n",
    "print(\"Is the GPU available? %s\" % str(gpu_avail))"
   ]
  },
  {
   "cell_type": "markdown",
   "metadata": {
    "id": "j2VQO5PamJp1"
   },
   "source": [
    "If you have a GPU on your computer but the command above returns False, make sure you have the correct CUDA-version installed. The `dl2020` environment comes with the CUDA-toolkit 10.1, which is selected for the Lisa supercomputer. Please change it if necessary (CUDA 10.2 is currently common). On Google Colab, make sure that you have selected a GPU in your runtime setup (in the menu, check under `Runtime -> Change runtime type`). \n",
    "\n",
    "By default, all tensors you create are stored on the CPU. We can push a tensor to the GPU by using the function `.to(...)`, or `.cuda()`. However, it is often a good practice to define a `device` object in your code which points to the GPU if you have one, and otherwise to the CPU. Then, you can write your code with respect to this device object, and it allows you to run the same code on both a CPU-only system, and one with a GPU. Let's try it below. We can specify the device as follows: "
   ]
  },
  {
   "cell_type": "code",
   "execution_count": 28,
   "metadata": {
    "id": "b7M--pi6mJp1"
   },
   "outputs": [
    {
     "name": "stdout",
     "output_type": "stream",
     "text": [
      "Device cpu\n"
     ]
    }
   ],
   "source": [
    "device = torch.device(\"cuda\") if torch.cuda.is_available() else torch.device(\"cpu\")\n",
    "print(\"Device\", device)"
   ]
  },
  {
   "cell_type": "markdown",
   "metadata": {
    "id": "Il7fja3KmJp1"
   },
   "source": [
    "Now let's create a tensor and push it to the device:"
   ]
  },
  {
   "cell_type": "code",
   "execution_count": 29,
   "metadata": {
    "id": "BIkGKHcwmJp1"
   },
   "outputs": [
    {
     "name": "stdout",
     "output_type": "stream",
     "text": [
      "X tensor([[0., 0., 0.],\n",
      "        [0., 0., 0.]])\n"
     ]
    }
   ],
   "source": [
    "x = torch.zeros(2, 3)\n",
    "\n",
    "## TODO: Push the tensor to \"device\"\n",
    "x = x.to(device)\n",
    "print(\"X\", x)"
   ]
  },
  {
   "cell_type": "markdown",
   "metadata": {
    "id": "wgmirjG7mJp2"
   },
   "source": [
    "In case you have a GPU, you should now see the attribute `device='cuda:0'` being printed next to your tensor. The zero next to cuda indicates that this is the zero-th GPU device on your computer. PyTorch also supports multi-GPU systems, but this you will only need once you have very big networks to train (if interested, see the [PyTorch documentation](https://pytorch.org/docs/stable/distributed.html#distributed-basics)). We can also compare the runtime of a large matrix multiplication on the CPU with a operation on the GPU:"
   ]
  },
  {
   "cell_type": "code",
   "execution_count": 30,
   "metadata": {
    "id": "O9H3uBJHmJp2"
   },
   "outputs": [
    {
     "name": "stdout",
     "output_type": "stream",
     "text": [
      "CPU time: 1.06589s\n",
      "GPU time: 0.88300s\n"
     ]
    }
   ],
   "source": [
    "x = torch.randn(5000, 5000)\n",
    "\n",
    "## CPU version\n",
    "start_time = time.time()\n",
    "_ = torch.matmul(x, x)\n",
    "end_time = time.time()\n",
    "print(\"CPU time: %6.5fs\" % (end_time - start_time))\n",
    "\n",
    "## GPU version\n",
    "x = x.to(device)\n",
    "# The first operation on a CUDA device can be slow as it has to establish a CPU-GPU communication first. \n",
    "# Hence, we run an arbitrary command first without timing it for a fair comparison.\n",
    "if torch.cuda.is_available():\n",
    "    _ = torch.matmul(x*0.0, x)\n",
    "start_time = time.time()\n",
    "_ = torch.matmul(x, x)\n",
    "end_time = time.time()\n",
    "print(\"GPU time: %6.5fs\" % (end_time - start_time))"
   ]
  },
  {
   "cell_type": "markdown",
   "metadata": {
    "id": "uCoiPRHemJp2"
   },
   "source": [
    "Depending on the size of the operation and the CPU/GPU in your system, the speedup of this operation can be >500x. As `matmul` operations are very common in neural networks, we can already see the great benefit of training a NN on a GPU. The time estimate can be relatively noisy here because we haven't run it for multiple times. Feel free to extend this, but it also takes longer to run.\n",
    "\n",
    "When generating random numbers, the seed between CPU and GPU is not synchronized. Hence, we need to set the seed on the GPU separately to ensure a reproducible code. Note that due to different GPU architectures, running the same code on different GPUs does not guarantee the same random numbers. Still, we don't want that our code gives us a different output every time we run it on the exact same hardware. Hence, we also set the seed on the GPU:"
   ]
  },
  {
   "cell_type": "code",
   "execution_count": 31,
   "metadata": {
    "id": "4auaYoIFmJp2"
   },
   "outputs": [],
   "source": [
    "# GPU operations have a separate seed we also want to set\n",
    "if torch.cuda.is_available(): \n",
    "    torch.cuda.manual_seed(7)\n",
    "    torch.cuda.manual_seed_all(7)\n",
    "    \n",
    "# Additionally, some operations on a GPU are implemented stochastic for efficiency\n",
    "# We want to ensure that all operations are deterministic on GPU (if used) for reproducibility\n",
    "torch.backends.cudnn.determinstic = True\n",
    "torch.backends.cudnn.benchmark = False"
   ]
  },
  {
   "cell_type": "markdown",
   "metadata": {
    "id": "RsKvc9ptmJp2"
   },
   "source": [
    "## Learning by example: Continuous XOR\n",
    "\n",
    "If we want to build a neural network in PyTorch, we could specify all our parameters (weight matrices, bias vectors) using `Tensors` (with `requires_grad=True`), ask PyTorch to calculate the gradients and then adjust the parameters. But things can quickly get cumbersome if we have a lot of parameters. In PyTorch, there is a package called `torch.nn` that makes building neural networks more convenient. \n",
    "\n",
    "We will introduce the libraries and all additional parts you might need to train a neural network in PyTorch, using a simple example classifier on a simple yet well known example: XOR. Given two binary inputs $x_1$ and $x_2$, the label to predict is $1$ if either $x_1$ or $x_2$ is $1$ while the other is $0$, or the label is $0$ in all other cases. The example became famous by the fact that a single neuron, i.e. a linear classifier, cannot learn this simple function.\n",
    "Hence, we will learn how to build a small neural network that can learn this function. \n",
    "To make it a little bit more interesting, we move the XOR into continuous space and introduce some gaussian noise on the binary inputs. Our desired separation of an XOR dataset could look as follows:\n",
    "\n",
    "<center style=\"width: 100%\"><img src=\"https://github.com/adityaintwala/ACM_DeepLearning_2021/blob/main/Data/Doc/Xor.PNG?raw=1\" width=\"350px\"></center>"
   ]
  },
  {
   "cell_type": "markdown",
   "metadata": {
    "id": "hJlASM8fmJp3"
   },
   "source": [
    "### The model\n",
    "\n",
    "The package `torch.nn` defines a series of useful classes like linear networks layers, activation functions, loss functions etc. A full list can be found [here](https://pytorch.org/docs/stable/nn.html). In case you need a certain network layer, check the documentation of the package first before writing the layer yourself as the package likely contains the code for it already. We import it below:"
   ]
  },
  {
   "cell_type": "code",
   "execution_count": 32,
   "metadata": {
    "id": "5TRhAPAtmJp3"
   },
   "outputs": [],
   "source": [
    "import torch.nn as nn"
   ]
  },
  {
   "cell_type": "markdown",
   "metadata": {
    "id": "MoiLa_Q_mJp3"
   },
   "source": [
    "Additionally to `torch.nn`, there is also `torch.nn.functional`. It contains functions that are used in network layers. This is in contrast to `torch.nn` which defines them as `nn.Modules` (more on it below), and `torch.nn` actually uses a lot of functionalities from `torch.nn.functional`. Hence, the functional package is useful in many situations, and so we import it as well here."
   ]
  },
  {
   "cell_type": "code",
   "execution_count": 33,
   "metadata": {
    "id": "9j7UIsUhmJp4"
   },
   "outputs": [],
   "source": [
    "import torch.nn.functional as F"
   ]
  },
  {
   "cell_type": "markdown",
   "metadata": {
    "id": "L1jb4kYzmJp4"
   },
   "source": [
    "#### nn.Module\n",
    "\n",
    "In PyTorch, a neural network is build up out of modules. Modules can contain other modules, and a neural network is considered to be a module itself as well. The basic template of a module is as follows:"
   ]
  },
  {
   "cell_type": "code",
   "execution_count": 34,
   "metadata": {
    "id": "EQHwORADmJp5"
   },
   "outputs": [],
   "source": [
    "class MyModule(nn.Module):\n",
    "    \n",
    "    def __init__(self):\n",
    "        super().__init__()\n",
    "        # Some init for my module\n",
    "        \n",
    "    def forward(self, x):\n",
    "        # Function for performing the calculation of the module.\n",
    "        pass"
   ]
  },
  {
   "cell_type": "markdown",
   "metadata": {
    "id": "eZng3I-1mJp5"
   },
   "source": [
    "The forward function is where the computation of the module is taken place, and is executed when you call the module (`nn = MyModule(); nn(x)`). In the init function, we usually create the parameters of the module, using `nn.Parameter`, or defining other modules that are used in the forward function. The backward calculation is done automatically, but could be overwritten as well if wanted.\n",
    "\n",
    "#### Simple classifier\n",
    "We can now make use of the pre-defined modules in the `torch.nn` package, and define our own small neural network. We will use a minimal network with a input layer, one hidden layer with tanh as activation function, and a output layer. In other words, our networks should look something like this:\n",
    "\n",
    "<center width=\"100%\"><img src=\"https://github.com/adityaintwala/ACM_DeepLearning_2021/blob/main/Data/Doc/NeuralNetwork.PNG?raw=1\" width=\"300px\"></center>\n",
    "\n",
    "The input neurons are shown in blue, which represent the coordinates $x_1$ and $x_2$ of a data point. The hidden neurons including a tanh activation are shown in white, and the output neuron in red.\n",
    "In PyTorch, we can define this as follows:"
   ]
  },
  {
   "cell_type": "code",
   "execution_count": 35,
   "metadata": {
    "id": "rlXqEd_amJp6"
   },
   "outputs": [],
   "source": [
    "class SimpleClassifier(nn.Module):\n",
    "    \n",
    "    def __init__(self, num_inputs, num_hidden, num_outputs):\n",
    "        super().__init__()\n",
    "        # Initialize the modules we need to build the network\n",
    "        ## TODO: Implement the linear layers using nn.Linear(input_neurons, output_neurons)\n",
    "        self.linear1 = nn.Linear(num_inputs, num_hidden)\n",
    "        self.linear2 = nn.Linear(num_hidden, num_outputs)\n",
    "        ## TODO: Implement the activation function using nn.Tanh\n",
    "        self.act_fn = nn.Tanh()\n",
    "        \n",
    "        \n",
    "    def forward(self, x):\n",
    "        # Perform the calculation of the model to determine the prediction\n",
    "        ## TODO: Execute the NN modules in sequence to build the neural network computation graph\n",
    "        x = self.linear1(x)\n",
    "        x = self.act_fn(x)\n",
    "        x = self.linear2(x)\n",
    "        return x"
   ]
  },
  {
   "cell_type": "markdown",
   "metadata": {
    "id": "0DaUvxIxmJp6"
   },
   "source": [
    "For the examples in this notebook, we will use a tiny neural network with two input neurons and four hidden neurons. As we perform binary classification, we will use a single output neuron. Note that we do not apply a sigmoid on the output yet. This is because other functions, especially the loss, are more efficient and precise to calculate on the original outputs instead of the sigmoid output. We will discuss the detailed reason later."
   ]
  },
  {
   "cell_type": "code",
   "execution_count": 36,
   "metadata": {
    "id": "y7DpmTcNmJp6"
   },
   "outputs": [
    {
     "name": "stdout",
     "output_type": "stream",
     "text": [
      "SimpleClassifier(\n",
      "  (linear1): Linear(in_features=2, out_features=4, bias=True)\n",
      "  (linear2): Linear(in_features=4, out_features=1, bias=True)\n",
      "  (act_fn): Tanh()\n",
      ")\n"
     ]
    }
   ],
   "source": [
    "model = SimpleClassifier(num_inputs=2, num_hidden=4, num_outputs=1)\n",
    "# Printing a module shows all its submodules\n",
    "print(model)"
   ]
  },
  {
   "cell_type": "markdown",
   "metadata": {
    "id": "qnHuzgT5mJp6"
   },
   "source": [
    "Printing the model lists all submodules it contains. The parameters of a module can be obtained by using its `parameters()` functions, or `named_parameters()` to get a name to each parameter object. For our small neural network, we have the following parameters:"
   ]
  },
  {
   "cell_type": "code",
   "execution_count": 37,
   "metadata": {
    "id": "2NiZMYc2mJp7"
   },
   "outputs": [
    {
     "name": "stdout",
     "output_type": "stream",
     "text": [
      "Parameter linear1.weight, shape torch.Size([4, 2])\n",
      "Parameter linear1.bias, shape torch.Size([4])\n",
      "Parameter linear2.weight, shape torch.Size([1, 4])\n",
      "Parameter linear2.bias, shape torch.Size([1])\n"
     ]
    }
   ],
   "source": [
    "for name, param in model.named_parameters():\n",
    "    print(\"Parameter %s, shape %s\" % (name, str(param.shape)))"
   ]
  },
  {
   "cell_type": "markdown",
   "metadata": {
    "id": "4_NQAya9mJp7"
   },
   "source": [
    "Each linear layer has a weight matrix of the shape `[output, input]`, and a bias of the shape `[output]`. The tanh activation function does not have any parameters. Note that parameters are only registered for `nn.Module` objects that are direct object attributes, i.e. `self.a = ...`. If you define a list of modules, the parameters of those are not registered for the outer module and can cause some issues when you try to optimize your module. There are alternatives, like `nn.ModuleList`, `nn.ModuleDict` and `nn.Sequential`, that allow you to have different data structures of modules. We will use them in a few later tutorials and explain them there. "
   ]
  },
  {
   "cell_type": "markdown",
   "metadata": {
    "id": "xPfGyYUtmJp8"
   },
   "source": [
    "### The data\n",
    "\n",
    "PyTorch also provides a few functionalities to load the training and test data efficiently, summarized in the package `torch.utils.data`."
   ]
  },
  {
   "cell_type": "code",
   "execution_count": 38,
   "metadata": {
    "id": "zsM6W3PemJp8"
   },
   "outputs": [],
   "source": [
    "import torch.utils.data as data"
   ]
  },
  {
   "cell_type": "markdown",
   "metadata": {
    "id": "uxN1zXsjmJp9"
   },
   "source": [
    "The data package defines two classes which are the standard interface for handling data in PyTorch: `data.Dataset`, and `data.DataLoader`. The dataset class provides an uniform interface to access the training/test data, while the data loader makes sure to efficiently load and stack the data points from the dataset into batches during training."
   ]
  },
  {
   "cell_type": "markdown",
   "metadata": {
    "id": "mjS31RRgmJp9"
   },
   "source": [
    "#### The dataset class\n",
    "\n",
    "The dataset class summarizes the basic functionality of a dataset in a natural way. To define a dataset in PyTorch, we simply specify two functions: `__getitem__`, and `__len__`. The get-item function has to return the $i$-th data point in the dataset, while the len function returns the size of the dataset. For the XOR dataset, we can define the dataset class as follows:"
   ]
  },
  {
   "cell_type": "code",
   "execution_count": 39,
   "metadata": {
    "id": "C83-he_vmJp9"
   },
   "outputs": [],
   "source": [
    "class XORDataset(data.Dataset):\n",
    "    \n",
    "    def __init__(self, size, std=0.1):\n",
    "        \"\"\"\n",
    "        Inputs:\n",
    "            size - Number of data points we want to generate\n",
    "            std - Standard deviation of the noise (see generate_continuous_xor function)\n",
    "        \"\"\"\n",
    "        super().__init__()\n",
    "        self.size = size\n",
    "        self.std = std\n",
    "        self.generate_continuous_xor()\n",
    "        \n",
    "    \n",
    "    def generate_continuous_xor(self):\n",
    "        # Each data point in the XOR dataset has two variables, x and y, that can be either 0 or 1\n",
    "        # The label is their XOR combination, i.e. 1 if only x or only y is 1 while the other is 0.\n",
    "        # If x=y, the label is 0.\n",
    "        data = torch.randint(low=0, high=2, size=(self.size, 2), dtype=torch.float32)\n",
    "        label = (data.sum(dim=1) == 1).to(torch.long)\n",
    "        # To make it slightly more challenging, we add a bit of gaussian noise to the data points.\n",
    "        data += self.std * torch.randn(data.shape)\n",
    "        \n",
    "        self.data = data\n",
    "        self.label = label\n",
    "        \n",
    "    \n",
    "    def __len__(self):\n",
    "        ## TODO: Return the number of data points the data has\n",
    "        # Number of data point we have. Alternatively self.data.shape[0], or self.label.shape[0]\n",
    "        return self.size\n",
    "    \n",
    "    \n",
    "    def __getitem__(self, idx):\n",
    "        ## TODO: Return the idx-th data point and label of the dataset\n",
    "        # Return the idx-th data point of the dataset\n",
    "        # If we have multiple things to return (data point and label), we can return them as tuple\n",
    "        data_point = self.data[idx]\n",
    "        data_label = self.label[idx]\n",
    "        return data_point, data_label"
   ]
  },
  {
   "cell_type": "markdown",
   "metadata": {
    "id": "UCMfkOLwmJp-"
   },
   "source": [
    "Let's try to create such a dataset and inspect it:"
   ]
  },
  {
   "cell_type": "code",
   "execution_count": 40,
   "metadata": {
    "id": "FYVYtTwdmJp-"
   },
   "outputs": [
    {
     "name": "stdout",
     "output_type": "stream",
     "text": [
      "Size of dataset: 200\n",
      "Data point 0: (tensor([0.8824, 0.8539]), tensor(0))\n"
     ]
    }
   ],
   "source": [
    "dataset = XORDataset(size=200)\n",
    "print(\"Size of dataset:\", len(dataset))\n",
    "print(\"Data point 0:\", dataset[0])"
   ]
  },
  {
   "cell_type": "markdown",
   "metadata": {
    "id": "QFylecSymJp-"
   },
   "source": [
    "To better relate to the dataset, we visualize the samples below. "
   ]
  },
  {
   "cell_type": "code",
   "execution_count": 41,
   "metadata": {
    "id": "QViF4Jz0mJp_"
   },
   "outputs": [],
   "source": [
    "def visualize_samples(data, label):\n",
    "    if isinstance(data, torch.Tensor):\n",
    "        data = data.cpu().numpy()\n",
    "    if isinstance(label, torch.Tensor):\n",
    "        label = label.cpu().numpy()\n",
    "    data_0 = data[label == 0]\n",
    "    data_1 = data[label == 1]\n",
    "    \n",
    "    plt.figure(figsize=(4,4))\n",
    "    plt.scatter(data_0[:,0], data_0[:,1], edgecolor=\"#333\", label=\"Class 0\")\n",
    "    plt.scatter(data_1[:,0], data_1[:,1], edgecolor=\"#333\", label=\"Class 1\")\n",
    "    plt.title(\"Dataset samples\")\n",
    "    plt.ylabel(r\"$x_2$\")\n",
    "    plt.xlabel(r\"$x_1$\")\n",
    "    plt.legend()"
   ]
  },
  {
   "cell_type": "code",
   "execution_count": 42,
   "metadata": {
    "id": "c1RiuvqcmJp_"
   },
   "outputs": [
    {
     "data": {
      "image/png": "[encoded data removed]",
      "text/plain": [
       "<Figure size 288x288 with 1 Axes>"
      ]
     },
     "metadata": {},
     "output_type": "display_data"
    }
   ],
   "source": [
    "visualize_samples(dataset.data, dataset.label)\n",
    "plt.show()"
   ]
  },
  {
   "cell_type": "markdown",
   "metadata": {
    "id": "3oWriws6mJp_"
   },
   "source": [
    "#### The data loader class\n",
    "\n",
    "The class `torch.utils.data.DataLoader` represents a Python iterable over a dataset with support for automatic batching, multi-process data loading and many more features. The data loader communicates with the dataset using the function `__getitem__`, and stacks its outputs as tensors over the first dimension to form a batch.\n",
    "In contrast to the dataset class, we usually don't have to define our own data loader class, but can just create an object of it with the dataset as input. Additionally, we can configure our data loader with the following input arguments (only a selection, see full list [here](https://pytorch.org/docs/stable/data.html#torch.utils.data.DataLoader)):\n",
    "\n",
    "* `batch_size`: Number of samples to stack per batch\n",
    "* `shuffle`: If True, the data is returned in a random order. This is important during training for introducing stochasticity. \n",
    "* `num_workers`: Number of subprocesses to use for data loading. The default, 0, means that the data will be loaded in the main process which can slow down training for datasets where loading a data point takes a considerable amount of time (e.g. large images). More workers are recommended for those, but can cause issues on Windows computers. For tiny datasets as ours, 0 workers are usually faster.\n",
    "* `pin_memory`: If True, the data loader will copy Tensors into CUDA pinned memory before returning them. This can save some time for large data points on GPUs. Usually a good practice to use for a training set, but not necessarily for validation and test to save memory on the GPU.\n",
    "* `drop_last`: If True, the last batch is dropped in case it is smaller than the specified batch size. This occurs when the dataset size is not a multiple of the batch size. Only potentially helpful during training to keep a consistent batch size.\n",
    "\n",
    "Let's create a simple data loader below:"
   ]
  },
  {
   "cell_type": "code",
   "execution_count": 43,
   "metadata": {
    "id": "6l0Eihh6mJqA"
   },
   "outputs": [],
   "source": [
    "data_loader = data.DataLoader(dataset, batch_size=8, shuffle=True)"
   ]
  },
  {
   "cell_type": "code",
   "execution_count": 44,
   "metadata": {
    "id": "L3ls8hT5mJqA"
   },
   "outputs": [
    {
     "name": "stdout",
     "output_type": "stream",
     "text": [
      "Data inputs torch.Size([8, 2]) \n",
      " tensor([[ 0.1056,  0.0182],\n",
      "        [-0.0814,  0.1111],\n",
      "        [ 0.9819, -0.0633],\n",
      "        [ 0.0183, -0.0565],\n",
      "        [ 0.1012,  0.9454],\n",
      "        [ 0.9705,  0.9489],\n",
      "        [ 1.0601,  0.0216],\n",
      "        [-0.0902,  0.9120]])\n",
      "Data labels torch.Size([8]) \n",
      " tensor([0, 0, 1, 0, 1, 0, 1, 1])\n"
     ]
    }
   ],
   "source": [
    "# next(iter(...)) catches the first batch of the data loader\n",
    "# If shuffle is True, this will return a different batch every time we run this cell\n",
    "# For iterating over the whole dataset, we can simple use \"for batch in data_loader: ...\"\n",
    "data_inputs, data_labels = next(iter(data_loader))\n",
    "\n",
    "# The shape of the outputs are [batch_size, d_1,...,d_N] where d_1,...,d_N are the \n",
    "# dimensions of the data point returned from the dataset class\n",
    "print(\"Data inputs\", data_inputs.shape, \"\\n\", data_inputs)\n",
    "print(\"Data labels\", data_labels.shape, \"\\n\", data_labels)"
   ]
  },
  {
   "cell_type": "markdown",
   "metadata": {
    "id": "Ggwnur38mJqA"
   },
   "source": [
    "### Optimization\n",
    "\n",
    "After defining the model and the dataset, it is time to prepare the optimization of the model. During training, we will perform the following steps:\n",
    "\n",
    "1. Get a batch from the data loader\n",
    "2. Obtain the predictions from the model for the batch\n",
    "3. Calculate the loss based on the difference between predictions and labels\n",
    "4. Backpropagation: calculate the gradients for every parameter with respect to the loss\n",
    "5. Update the parameters of the model in the direction of the gradients\n",
    "\n",
    "We have seen how we can do step 1, 2 and 4 in PyTorch. Now, we will look at step 3 and 5."
   ]
  },
  {
   "cell_type": "markdown",
   "metadata": {
    "id": "sfIXs_b5mJqB"
   },
   "source": [
    "#### Loss modules\n",
    "\n",
    "We can calculate the loss for a batch by simply performing a few tensor operations as those are automatically added to the computation graph. For instance, for binary classification, we can use Binary Cross Entropy (BCE) which is defined as follows:\n",
    "\n",
    "$$\\mathcal{L}_{BCE} = \\sum_i y_i \\log x_i + (1 - y_i) \\log (1 - x_i)$$\n",
    "\n",
    "where $y$ are our labels, and $x$ our predictions, both in the range of $[0,1]$. However, PyTorch already provides a list of predefined loss functions which we can use (see [here](https://pytorch.org/docs/stable/nn.html#loss-functions) for a full list). For instance, for BCE, PyTorch has two modules: `nn.BCELoss()`, `nn.BCEWithLogitsLoss()`. While `nn.BCELoss` expects the inputs $x$ to be in the range $[0,1]$, i.e. the output of a sigmoid, `nn.BCEWithLogitsLoss` combines a sigmoid layer and the BCE loss in a single class. This version is numerically more stable than using a plain Sigmoid followed by a BCE loss because of the logarithms applied in the loss function. Hence, it is adviced to use loss functions applied on \"logits\" where possible (remember to not apply a sigmoid on the output of the model in this case!). For our model defined above, we therefore use the module `nn.BCEWithLogitsLoss`. "
   ]
  },
  {
   "cell_type": "code",
   "execution_count": 45,
   "metadata": {
    "id": "l7o01SmOmJqB"
   },
   "outputs": [],
   "source": [
    "loss_module = nn.BCEWithLogitsLoss()"
   ]
  },
  {
   "cell_type": "markdown",
   "metadata": {
    "id": "RtixEHqqmJqB"
   },
   "source": [
    "#### Stochastic Gradient Descent\n",
    "\n",
    "For updating the parameters, PyTorch provides the package `torch.optim` that has most popular optimizers implemented. We will discuss the specific optimizers and their differences later in the course, but will for now use the simplest of them: `torch.optim.SGD`. Stochastic Gradient Descent updates parameters by multiplying the gradients with a small constant, called learning rate, and subtracting those from the parameters (hence minimizing the loss). Therefore, we slowly move towards the direction of minimizing the loss. A good default value of the learning rate for a small network as ours is 0.1. "
   ]
  },
  {
   "cell_type": "code",
   "execution_count": 46,
   "metadata": {
    "id": "InIU_8XMmJqC"
   },
   "outputs": [],
   "source": [
    "# Input to the optimizer are the parameters of the model: model.parameters()\n",
    "optimizer = torch.optim.SGD(model.parameters(), lr=0.1)"
   ]
  },
  {
   "cell_type": "markdown",
   "metadata": {
    "id": "NXdGUPfYmJqC"
   },
   "source": [
    "The optimizer provides two useful functions: `optimizer.step()`, and `optimizer.zero_grad()`. The step function updates the parameters based on the gradients as explained above. The function `optimizer.zero_grad()` sets the gradients of all parameters to zero. While this function seems less relevant at first, it is a crucial pre-step before performing backpropagation. If we would call the `backward` function on the loss while the parameter gradients are non-zero from the previous batch, the new gradients would actually be added to the previous ones instead of overwriting them. This is done because a parameter might occur multiple times in a computation graph, and we need to sum the gradients in this case instead of replacing them. Hence, remember to call `optimizer.zero_grad()` before calculating the gradients of a batch."
   ]
  },
  {
   "cell_type": "markdown",
   "metadata": {
    "id": "dtqyEhuUmJqC"
   },
   "source": [
    "### Training\n",
    "\n",
    "Finally, we are ready to train our model. As a first step, we create a slightly larger dataset and specify a data loader with a larger batch size. "
   ]
  },
  {
   "cell_type": "code",
   "execution_count": 47,
   "metadata": {
    "id": "VoxAXngYmJqC"
   },
   "outputs": [],
   "source": [
    "train_dataset = XORDataset(size=1000)\n",
    "train_data_loader = data.DataLoader(train_dataset, batch_size=128, shuffle=True)"
   ]
  },
  {
   "cell_type": "markdown",
   "metadata": {
    "id": "yDewhVQWmJqD"
   },
   "source": [
    "Now, we can write a small training function. Remember our five steps: load a batch, obtain the predictions, calculate the loss, backpropagate, and update. Additionally, we have to push all data and model parameters to the device of our choice (GPU if available). For the tiny neural network we have, communicating the data to the GPU actually takes much more time than we could save from running the operation on GPU. For large networks, the communication time is significantly smaller than the actual runtime making a GPU crucial in these cases. Still, to practice, we will push the data to GPU here. "
   ]
  },
  {
   "cell_type": "code",
   "execution_count": 48,
   "metadata": {
    "id": "i1Ksclt_mJqD"
   },
   "outputs": [
    {
     "data": {
      "text/plain": [
       "SimpleClassifier(\n",
       "  (linear1): Linear(in_features=2, out_features=4, bias=True)\n",
       "  (linear2): Linear(in_features=4, out_features=1, bias=True)\n",
       "  (act_fn): Tanh()\n",
       ")"
      ]
     },
     "execution_count": 48,
     "metadata": {},
     "output_type": "execute_result"
    }
   ],
   "source": [
    "# Push model to device. Has to be only done once\n",
    "model.to(device)"
   ]
  },
  {
   "cell_type": "markdown",
   "metadata": {
    "id": "O5bhX5ffmJqD"
   },
   "source": [
    "In addition, we set our model to training mode. This is done by calling `model.train()`. There exist certain modules that need to perform a different forward step during training than during testing (e.g. BatchNorm and Dropout), and we can switch between them using `model.train()` and `model.eval()`."
   ]
  },
  {
   "cell_type": "code",
   "execution_count": 49,
   "metadata": {
    "id": "e24Hg_ApmJqD"
   },
   "outputs": [],
   "source": [
    "def train_model(model, optimizer, data_loader, loss_module, num_epochs=100):\n",
    "    # Set model to train mode\n",
    "    model.train() \n",
    "    \n",
    "    # Training loop\n",
    "    for epoch in range(num_epochs):\n",
    "        print('============= epoch {} ============='.format(epoch))\n",
    "        for data_inputs, data_labels in data_loader:\n",
    "            \n",
    "            ## TODO: Step 1 - Move input data to device\n",
    "            data_inputs, data_labels = data_inputs.to(device), data_labels.to(device)\n",
    "            \n",
    "            ## TODO: Step 2 - Run the model on the input data\n",
    "            preds = model(data_inputs)\n",
    "            preds = preds.squeeze(dim=1) # Output is [Batch size, 1], but we want [Batch size]\n",
    "            \n",
    "            ## TODO: Step 3 - Calculate the loss using the module loss_module\n",
    "            loss = loss_module(preds, data_labels.float())\n",
    "            print('============= epoch {} : loss {} ============='.format(epoch, loss))\n",
    "            \n",
    "            ## TODO: Step 4 - Perform backpropagation\n",
    "            # Before calculating the gradients, we need to ensure that they are all zero. \n",
    "            # The gradients would not be overwritten, but actually added to the existing ones.\n",
    "            optimizer.zero_grad() \n",
    "            # Perform backpropagation\n",
    "            loss.backward()\n",
    "            \n",
    "            ## TODO: Step 5 - Update parameters\n",
    "            optimizer.step()"
   ]
  },
  {
   "cell_type": "code",
   "execution_count": 50,
   "metadata": {
    "id": "cbl7gXmlmJqD"
   },
   "outputs": [
    {
     "name": "stdout",
     "output_type": "stream",
     "text": [
      "============= epoch 0 =============\n",
      "============= epoch 0 : loss 0.7117593288421631 =============\n",
      "============= epoch 0 : loss 0.7075790166854858 =============\n",
      "============= epoch 0 : loss 0.7034581899642944 =============\n",
      "============= epoch 0 : loss 0.6963807940483093 =============\n",
      "============= epoch 0 : loss 0.6940444111824036 =============\n",
      "============= epoch 0 : loss 0.6873399019241333 =============\n",
      "============= epoch 0 : loss 0.6809723973274231 =============\n",
      "============= epoch 0 : loss 0.6984243988990784 =============\n",
      "============= epoch 1 =============\n",
      "============= epoch 1 : loss 0.7060599327087402 =============\n",
      "============= epoch 1 : loss 0.6910116076469421 =============\n",
      "============= epoch 1 : loss 0.6950803995132446 =============\n",
      "============= epoch 1 : loss 0.681446373462677 =============\n",
      "============= epoch 1 : loss 0.688428521156311 =============\n",
      "============= epoch 1 : loss 0.6926938891410828 =============\n",
      "============= epoch 1 : loss 0.6900189518928528 =============\n",
      "============= epoch 1 : loss 0.6990975141525269 =============\n",
      "============= epoch 2 =============\n",
      "============= epoch 2 : loss 0.6943590641021729 =============\n",
      "============= epoch 2 : loss 0.6821208000183105 =============\n",
      "============= epoch 2 : loss 0.6943213939666748 =============\n",
      "============= epoch 2 : loss 0.6929977536201477 =============\n",
      "============= epoch 2 : loss 0.6859896183013916 =============\n",
      "============= epoch 2 : loss 0.6883413791656494 =============\n",
      "============= epoch 2 : loss 0.6947869658470154 =============\n",
      "============= epoch 2 : loss 0.6821179986000061 =============\n",
      "============= epoch 3 =============\n",
      "============= epoch 3 : loss 0.6886790990829468 =============\n",
      "============= epoch 3 : loss 0.6943208575248718 =============\n",
      "============= epoch 3 : loss 0.6901974081993103 =============\n",
      "============= epoch 3 : loss 0.680564284324646 =============\n",
      "============= epoch 3 : loss 0.6849411129951477 =============\n",
      "============= epoch 3 : loss 0.6860849261283875 =============\n",
      "============= epoch 3 : loss 0.6841692328453064 =============\n",
      "============= epoch 3 : loss 0.6875072121620178 =============\n",
      "============= epoch 4 =============\n",
      "============= epoch 4 : loss 0.6864755153656006 =============\n",
      "============= epoch 4 : loss 0.6890218257904053 =============\n",
      "============= epoch 4 : loss 0.6841205954551697 =============\n",
      "============= epoch 4 : loss 0.6849473714828491 =============\n",
      "============= epoch 4 : loss 0.6789066791534424 =============\n",
      "============= epoch 4 : loss 0.683935821056366 =============\n",
      "============= epoch 4 : loss 0.6870892643928528 =============\n",
      "============= epoch 4 : loss 0.6850090026855469 =============\n",
      "============= epoch 5 =============\n",
      "============= epoch 5 : loss 0.6835173964500427 =============\n",
      "============= epoch 5 : loss 0.6826765537261963 =============\n",
      "============= epoch 5 : loss 0.68421870470047 =============\n",
      "============= epoch 5 : loss 0.6796102523803711 =============\n",
      "============= epoch 5 : loss 0.682673454284668 =============\n",
      "============= epoch 5 : loss 0.6843351125717163 =============\n",
      "============= epoch 5 : loss 0.6827096939086914 =============\n",
      "============= epoch 5 : loss 0.6854153275489807 =============\n",
      "============= epoch 6 =============\n",
      "============= epoch 6 : loss 0.6849397420883179 =============\n",
      "============= epoch 6 : loss 0.6789071559906006 =============\n",
      "============= epoch 6 : loss 0.6814152002334595 =============\n",
      "============= epoch 6 : loss 0.6812077760696411 =============\n",
      "============= epoch 6 : loss 0.6818869113922119 =============\n",
      "============= epoch 6 : loss 0.6791635751724243 =============\n",
      "============= epoch 6 : loss 0.6829220652580261 =============\n",
      "============= epoch 6 : loss 0.6804263591766357 =============\n",
      "============= epoch 7 =============\n",
      "============= epoch 7 : loss 0.6785221695899963 =============\n",
      "============= epoch 7 : loss 0.6853125095367432 =============\n",
      "============= epoch 7 : loss 0.6826370358467102 =============\n",
      "============= epoch 7 : loss 0.6817312836647034 =============\n",
      "============= epoch 7 : loss 0.6811161637306213 =============\n",
      "============= epoch 7 : loss 0.6706303358078003 =============\n",
      "============= epoch 7 : loss 0.6813203692436218 =============\n",
      "============= epoch 7 : loss 0.6760086417198181 =============\n",
      "============= epoch 8 =============\n",
      "============= epoch 8 : loss 0.6782199144363403 =============\n",
      "============= epoch 8 : loss 0.6735521554946899 =============\n",
      "============= epoch 8 : loss 0.6796708106994629 =============\n",
      "============= epoch 8 : loss 0.6743438243865967 =============\n",
      "============= epoch 8 : loss 0.6794338822364807 =============\n",
      "============= epoch 8 : loss 0.6816911101341248 =============\n",
      "============= epoch 8 : loss 0.6776415109634399 =============\n",
      "============= epoch 8 : loss 0.6798731088638306 =============\n",
      "============= epoch 9 =============\n",
      "============= epoch 9 : loss 0.6760040521621704 =============\n",
      "============= epoch 9 : loss 0.6789068579673767 =============\n",
      "============= epoch 9 : loss 0.673545241355896 =============\n",
      "============= epoch 9 : loss 0.6702687740325928 =============\n",
      "============= epoch 9 : loss 0.679535984992981 =============\n",
      "============= epoch 9 : loss 0.6785333156585693 =============\n",
      "============= epoch 9 : loss 0.6753884553909302 =============\n",
      "============= epoch 9 : loss 0.6766480803489685 =============\n",
      "============= epoch 10 =============\n",
      "============= epoch 10 : loss 0.6771060228347778 =============\n",
      "============= epoch 10 : loss 0.6767828464508057 =============\n",
      "============= epoch 10 : loss 0.6705185174942017 =============\n",
      "============= epoch 10 : loss 0.6757668852806091 =============\n",
      "============= epoch 10 : loss 0.668975830078125 =============\n",
      "============= epoch 10 : loss 0.6746565103530884 =============\n",
      "============= epoch 10 : loss 0.6743783354759216 =============\n",
      "============= epoch 10 : loss 0.6770058274269104 =============\n",
      "============= epoch 11 =============\n",
      "============= epoch 11 : loss 0.6708102822303772 =============\n",
      "============= epoch 11 : loss 0.6804619431495667 =============\n",
      "============= epoch 11 : loss 0.6704574823379517 =============\n",
      "============= epoch 11 : loss 0.6654821634292603 =============\n",
      "============= epoch 11 : loss 0.6733693480491638 =============\n",
      "============= epoch 11 : loss 0.6761651635169983 =============\n",
      "============= epoch 11 : loss 0.6688207387924194 =============\n",
      "============= epoch 11 : loss 0.6720598936080933 =============\n",
      "============= epoch 12 =============\n",
      "============= epoch 12 : loss 0.6631762981414795 =============\n",
      "============= epoch 12 : loss 0.6753780245780945 =============\n",
      "============= epoch 12 : loss 0.6673553586006165 =============\n",
      "============= epoch 12 : loss 0.6678206920623779 =============\n",
      "============= epoch 12 : loss 0.6717615127563477 =============\n",
      "============= epoch 12 : loss 0.6676563024520874 =============\n",
      "============= epoch 12 : loss 0.6707961559295654 =============\n",
      "============= epoch 12 : loss 0.6769692897796631 =============\n",
      "============= epoch 13 =============\n",
      "============= epoch 13 : loss 0.6670234203338623 =============\n",
      "============= epoch 13 : loss 0.6664533615112305 =============\n",
      "============= epoch 13 : loss 0.6682682633399963 =============\n",
      "============= epoch 13 : loss 0.6696071624755859 =============\n",
      "============= epoch 13 : loss 0.6608299612998962 =============\n",
      "============= epoch 13 : loss 0.6710869073867798 =============\n",
      "============= epoch 13 : loss 0.6696181297302246 =============\n",
      "============= epoch 13 : loss 0.6686760187149048 =============\n",
      "============= epoch 14 =============\n",
      "============= epoch 14 : loss 0.6647273302078247 =============\n",
      "============= epoch 14 : loss 0.6657788157463074 =============\n",
      "============= epoch 14 : loss 0.6659006476402283 =============\n",
      "============= epoch 14 : loss 0.6679397225379944 =============\n",
      "============= epoch 14 : loss 0.6709027290344238 =============\n",
      "============= epoch 14 : loss 0.658664345741272 =============\n",
      "============= epoch 14 : loss 0.6667601466178894 =============\n",
      "============= epoch 14 : loss 0.6592270731925964 =============\n",
      "============= epoch 15 =============\n",
      "============= epoch 15 : loss 0.6653032302856445 =============\n",
      "============= epoch 15 : loss 0.6612754464149475 =============\n",
      "============= epoch 15 : loss 0.658715546131134 =============\n",
      "============= epoch 15 : loss 0.6548752784729004 =============\n",
      "============= epoch 15 : loss 0.6609590649604797 =============\n",
      "============= epoch 15 : loss 0.6634522080421448 =============\n",
      "============= epoch 15 : loss 0.6670302152633667 =============\n",
      "============= epoch 15 : loss 0.6662540435791016 =============\n",
      "============= epoch 16 =============\n",
      "============= epoch 16 : loss 0.6581751108169556 =============\n",
      "============= epoch 16 : loss 0.6630942225456238 =============\n",
      "============= epoch 16 : loss 0.6552683115005493 =============\n",
      "============= epoch 16 : loss 0.6630623936653137 =============\n",
      "============= epoch 16 : loss 0.6677290797233582 =============\n",
      "============= epoch 16 : loss 0.6574143171310425 =============\n",
      "============= epoch 16 : loss 0.6510753631591797 =============\n",
      "============= epoch 16 : loss 0.6575743556022644 =============\n",
      "============= epoch 17 =============\n",
      "============= epoch 17 : loss 0.6592711210250854 =============\n",
      "============= epoch 17 : loss 0.6562356352806091 =============\n",
      "============= epoch 17 : loss 0.6686186194419861 =============\n",
      "============= epoch 17 : loss 0.6496381163597107 =============\n",
      "============= epoch 17 : loss 0.6542040109634399 =============\n",
      "============= epoch 17 : loss 0.6501290798187256 =============\n",
      "============= epoch 17 : loss 0.64653480052948 =============\n",
      "============= epoch 17 : loss 0.6624508500099182 =============\n",
      "============= epoch 18 =============\n",
      "============= epoch 18 : loss 0.657903254032135 =============\n",
      "============= epoch 18 : loss 0.6534234881401062 =============\n",
      "============= epoch 18 : loss 0.6577951312065125 =============\n",
      "============= epoch 18 : loss 0.651475191116333 =============\n",
      "============= epoch 18 : loss 0.6585217714309692 =============\n",
      "============= epoch 18 : loss 0.6466885805130005 =============\n",
      "============= epoch 18 : loss 0.6474722623825073 =============\n",
      "============= epoch 18 : loss 0.6407769322395325 =============\n",
      "============= epoch 19 =============\n",
      "============= epoch 19 : loss 0.646618127822876 =============\n",
      "============= epoch 19 : loss 0.6644560694694519 =============\n",
      "============= epoch 19 : loss 0.648396909236908 =============\n",
      "============= epoch 19 : loss 0.647391676902771 =============\n",
      "============= epoch 19 : loss 0.6432473063468933 =============\n",
      "============= epoch 19 : loss 0.6475443840026855 =============\n",
      "============= epoch 19 : loss 0.6401302218437195 =============\n",
      "============= epoch 19 : loss 0.6450942158699036 =============\n",
      "============= epoch 20 =============\n",
      "============= epoch 20 : loss 0.6442654132843018 =============\n",
      "============= epoch 20 : loss 0.6546763777732849 =============\n",
      "============= epoch 20 : loss 0.6396698355674744 =============\n",
      "============= epoch 20 : loss 0.636917233467102 =============\n",
      "============= epoch 20 : loss 0.6397477388381958 =============\n",
      "============= epoch 20 : loss 0.6435396075248718 =============\n",
      "============= epoch 20 : loss 0.6509943008422852 =============\n",
      "============= epoch 20 : loss 0.6346619129180908 =============\n",
      "============= epoch 21 =============\n",
      "============= epoch 21 : loss 0.6340808272361755 =============\n",
      "============= epoch 21 : loss 0.6443294286727905 =============\n",
      "============= epoch 21 : loss 0.6246534585952759 =============\n",
      "============= epoch 21 : loss 0.6343448162078857 =============\n",
      "============= epoch 21 : loss 0.6347808837890625 =============\n",
      "============= epoch 21 : loss 0.647934079170227 =============\n",
      "============= epoch 21 : loss 0.6458007097244263 =============\n",
      "============= epoch 21 : loss 0.6417363286018372 =============\n",
      "============= epoch 22 =============\n",
      "============= epoch 22 : loss 0.6333016157150269 =============\n"
     ]
    },
    {
     "name": "stdout",
     "output_type": "stream",
     "text": [
      "============= epoch 22 : loss 0.6368557810783386 =============\n",
      "============= epoch 22 : loss 0.6296020150184631 =============\n",
      "============= epoch 22 : loss 0.636217474937439 =============\n",
      "============= epoch 22 : loss 0.6234781742095947 =============\n",
      "============= epoch 22 : loss 0.6360793113708496 =============\n",
      "============= epoch 22 : loss 0.6348183751106262 =============\n",
      "============= epoch 22 : loss 0.6355032324790955 =============\n",
      "============= epoch 23 =============\n",
      "============= epoch 23 : loss 0.6315110325813293 =============\n",
      "============= epoch 23 : loss 0.6234414577484131 =============\n",
      "============= epoch 23 : loss 0.6304166316986084 =============\n",
      "============= epoch 23 : loss 0.62621009349823 =============\n",
      "============= epoch 23 : loss 0.6062471270561218 =============\n",
      "============= epoch 23 : loss 0.6299507021903992 =============\n",
      "============= epoch 23 : loss 0.6312372088432312 =============\n",
      "============= epoch 23 : loss 0.6414766311645508 =============\n",
      "============= epoch 24 =============\n",
      "============= epoch 24 : loss 0.6261637210845947 =============\n",
      "============= epoch 24 : loss 0.6243926286697388 =============\n",
      "============= epoch 24 : loss 0.6187692284584045 =============\n",
      "============= epoch 24 : loss 0.6095038652420044 =============\n",
      "============= epoch 24 : loss 0.628260612487793 =============\n",
      "============= epoch 24 : loss 0.6313684582710266 =============\n",
      "============= epoch 24 : loss 0.6169485449790955 =============\n",
      "============= epoch 24 : loss 0.6119749546051025 =============\n",
      "============= epoch 25 =============\n",
      "============= epoch 25 : loss 0.6161133646965027 =============\n",
      "============= epoch 25 : loss 0.6125844120979309 =============\n",
      "============= epoch 25 : loss 0.6263558864593506 =============\n",
      "============= epoch 25 : loss 0.6086958646774292 =============\n",
      "============= epoch 25 : loss 0.6152898669242859 =============\n",
      "============= epoch 25 : loss 0.6134734749794006 =============\n",
      "============= epoch 25 : loss 0.60422682762146 =============\n",
      "============= epoch 25 : loss 0.6186472773551941 =============\n",
      "============= epoch 26 =============\n",
      "============= epoch 26 : loss 0.6019254922866821 =============\n",
      "============= epoch 26 : loss 0.608811616897583 =============\n",
      "============= epoch 26 : loss 0.6213964223861694 =============\n",
      "============= epoch 26 : loss 0.6035493612289429 =============\n",
      "============= epoch 26 : loss 0.6010401844978333 =============\n",
      "============= epoch 26 : loss 0.5918799042701721 =============\n",
      "============= epoch 26 : loss 0.6124563217163086 =============\n",
      "============= epoch 26 : loss 0.6151066422462463 =============\n",
      "============= epoch 27 =============\n",
      "============= epoch 27 : loss 0.603348433971405 =============\n",
      "============= epoch 27 : loss 0.5962085723876953 =============\n",
      "============= epoch 27 : loss 0.5910750031471252 =============\n",
      "============= epoch 27 : loss 0.6063531637191772 =============\n",
      "============= epoch 27 : loss 0.6045096516609192 =============\n",
      "============= epoch 27 : loss 0.5988701581954956 =============\n",
      "============= epoch 27 : loss 0.5875467658042908 =============\n",
      "============= epoch 27 : loss 0.6049484610557556 =============\n",
      "============= epoch 28 =============\n",
      "============= epoch 28 : loss 0.6007307171821594 =============\n",
      "============= epoch 28 : loss 0.593371570110321 =============\n",
      "============= epoch 28 : loss 0.6038915514945984 =============\n",
      "============= epoch 28 : loss 0.6016219854354858 =============\n",
      "============= epoch 28 : loss 0.5762499570846558 =============\n",
      "============= epoch 28 : loss 0.5890336632728577 =============\n",
      "============= epoch 28 : loss 0.5699636936187744 =============\n",
      "============= epoch 28 : loss 0.5881358981132507 =============\n",
      "============= epoch 29 =============\n",
      "============= epoch 29 : loss 0.5873495936393738 =============\n",
      "============= epoch 29 : loss 0.5951560735702515 =============\n",
      "============= epoch 29 : loss 0.5913220643997192 =============\n",
      "============= epoch 29 : loss 0.5862253308296204 =============\n",
      "============= epoch 29 : loss 0.5791008472442627 =============\n",
      "============= epoch 29 : loss 0.5744384527206421 =============\n",
      "============= epoch 29 : loss 0.5712340474128723 =============\n",
      "============= epoch 29 : loss 0.5642180442810059 =============\n",
      "============= epoch 30 =============\n",
      "============= epoch 30 : loss 0.5735173225402832 =============\n",
      "============= epoch 30 : loss 0.5670830607414246 =============\n",
      "============= epoch 30 : loss 0.5780488848686218 =============\n",
      "============= epoch 30 : loss 0.5624877214431763 =============\n",
      "============= epoch 30 : loss 0.5647692680358887 =============\n",
      "============= epoch 30 : loss 0.5781840085983276 =============\n",
      "============= epoch 30 : loss 0.5691957473754883 =============\n",
      "============= epoch 30 : loss 0.5835232138633728 =============\n",
      "============= epoch 31 =============\n",
      "============= epoch 31 : loss 0.5680281519889832 =============\n",
      "============= epoch 31 : loss 0.5660068392753601 =============\n",
      "============= epoch 31 : loss 0.5603758692741394 =============\n",
      "============= epoch 31 : loss 0.5470079183578491 =============\n",
      "============= epoch 31 : loss 0.5758377313613892 =============\n",
      "============= epoch 31 : loss 0.5524559020996094 =============\n",
      "============= epoch 31 : loss 0.5598318576812744 =============\n",
      "============= epoch 31 : loss 0.5676077604293823 =============\n",
      "============= epoch 32 =============\n",
      "============= epoch 32 : loss 0.5493301153182983 =============\n",
      "============= epoch 32 : loss 0.556471049785614 =============\n",
      "============= epoch 32 : loss 0.558144211769104 =============\n",
      "============= epoch 32 : loss 0.5308687686920166 =============\n",
      "============= epoch 32 : loss 0.5594868063926697 =============\n",
      "============= epoch 32 : loss 0.5610437393188477 =============\n",
      "============= epoch 32 : loss 0.5472794771194458 =============\n",
      "============= epoch 32 : loss 0.550183892250061 =============\n",
      "============= epoch 33 =============\n",
      "============= epoch 33 : loss 0.5372655391693115 =============\n",
      "============= epoch 33 : loss 0.5405067801475525 =============\n",
      "============= epoch 33 : loss 0.5524512529373169 =============\n",
      "============= epoch 33 : loss 0.5264758467674255 =============\n",
      "============= epoch 33 : loss 0.5461965799331665 =============\n",
      "============= epoch 33 : loss 0.5397732853889465 =============\n",
      "============= epoch 33 : loss 0.5288195610046387 =============\n",
      "============= epoch 33 : loss 0.551622211933136 =============\n",
      "============= epoch 34 =============\n",
      "============= epoch 34 : loss 0.544389009475708 =============\n",
      "============= epoch 34 : loss 0.5488203167915344 =============\n",
      "============= epoch 34 : loss 0.5332562923431396 =============\n",
      "============= epoch 34 : loss 0.5205675959587097 =============\n",
      "============= epoch 34 : loss 0.5336609482765198 =============\n",
      "============= epoch 34 : loss 0.5069177150726318 =============\n",
      "============= epoch 34 : loss 0.5199811458587646 =============\n",
      "============= epoch 34 : loss 0.5197389125823975 =============\n",
      "============= epoch 35 =============\n",
      "============= epoch 35 : loss 0.5254164338111877 =============\n",
      "============= epoch 35 : loss 0.5338726043701172 =============\n",
      "============= epoch 35 : loss 0.5227746963500977 =============\n",
      "============= epoch 35 : loss 0.5222481489181519 =============\n",
      "============= epoch 35 : loss 0.5021410584449768 =============\n",
      "============= epoch 35 : loss 0.5094242095947266 =============\n",
      "============= epoch 35 : loss 0.5019149780273438 =============\n",
      "============= epoch 35 : loss 0.5165669918060303 =============\n",
      "============= epoch 36 =============\n",
      "============= epoch 36 : loss 0.5103874206542969 =============\n",
      "============= epoch 36 : loss 0.5235217809677124 =============\n",
      "============= epoch 36 : loss 0.4980778694152832 =============\n",
      "============= epoch 36 : loss 0.49692606925964355 =============\n",
      "============= epoch 36 : loss 0.5066319108009338 =============\n",
      "============= epoch 36 : loss 0.519271194934845 =============\n",
      "============= epoch 36 : loss 0.4791121482849121 =============\n",
      "============= epoch 36 : loss 0.4993807077407837 =============\n",
      "============= epoch 37 =============\n",
      "============= epoch 37 : loss 0.5098645687103271 =============\n",
      "============= epoch 37 : loss 0.48298659920692444 =============\n",
      "============= epoch 37 : loss 0.4982052743434906 =============\n",
      "============= epoch 37 : loss 0.4826146960258484 =============\n",
      "============= epoch 37 : loss 0.4913361072540283 =============\n",
      "============= epoch 37 : loss 0.483862042427063 =============\n",
      "============= epoch 37 : loss 0.4944685697555542 =============\n",
      "============= epoch 37 : loss 0.4853450655937195 =============\n",
      "============= epoch 38 =============\n",
      "============= epoch 38 : loss 0.49059048295021057 =============\n",
      "============= epoch 38 : loss 0.49475032091140747 =============\n",
      "============= epoch 38 : loss 0.4842066466808319 =============\n",
      "============= epoch 38 : loss 0.4822731018066406 =============\n",
      "============= epoch 38 : loss 0.4821282625198364 =============\n",
      "============= epoch 38 : loss 0.4630585312843323 =============\n",
      "============= epoch 38 : loss 0.4732891917228699 =============\n",
      "============= epoch 38 : loss 0.44963139295578003 =============\n",
      "============= epoch 39 =============\n",
      "============= epoch 39 : loss 0.46663451194763184 =============\n",
      "============= epoch 39 : loss 0.4874381721019745 =============\n",
      "============= epoch 39 : loss 0.4707789421081543 =============\n",
      "============= epoch 39 : loss 0.45388972759246826 =============\n",
      "============= epoch 39 : loss 0.4598335027694702 =============\n",
      "============= epoch 39 : loss 0.46389657258987427 =============\n",
      "============= epoch 39 : loss 0.4682919979095459 =============\n",
      "============= epoch 39 : loss 0.44179126620292664 =============\n",
      "============= epoch 40 =============\n",
      "============= epoch 40 : loss 0.44454213976860046 =============\n",
      "============= epoch 40 : loss 0.4765288531780243 =============\n",
      "============= epoch 40 : loss 0.4639555811882019 =============\n",
      "============= epoch 40 : loss 0.45124635100364685 =============\n",
      "============= epoch 40 : loss 0.4452260136604309 =============\n",
      "============= epoch 40 : loss 0.44983914494514465 =============\n",
      "============= epoch 40 : loss 0.43699514865875244 =============\n"
     ]
    },
    {
     "name": "stdout",
     "output_type": "stream",
     "text": [
      "============= epoch 40 : loss 0.4367423355579376 =============\n",
      "============= epoch 41 =============\n",
      "============= epoch 41 : loss 0.42423683404922485 =============\n",
      "============= epoch 41 : loss 0.446135550737381 =============\n",
      "============= epoch 41 : loss 0.44791197776794434 =============\n",
      "============= epoch 41 : loss 0.4448131322860718 =============\n",
      "============= epoch 41 : loss 0.4451834559440613 =============\n",
      "============= epoch 41 : loss 0.4270387291908264 =============\n",
      "============= epoch 41 : loss 0.42783594131469727 =============\n",
      "============= epoch 41 : loss 0.43302565813064575 =============\n",
      "============= epoch 42 =============\n",
      "============= epoch 42 : loss 0.4079210162162781 =============\n",
      "============= epoch 42 : loss 0.436057448387146 =============\n",
      "============= epoch 42 : loss 0.4261621832847595 =============\n",
      "============= epoch 42 : loss 0.42302411794662476 =============\n",
      "============= epoch 42 : loss 0.41705214977264404 =============\n",
      "============= epoch 42 : loss 0.42536404728889465 =============\n",
      "============= epoch 42 : loss 0.41955113410949707 =============\n",
      "============= epoch 42 : loss 0.43282991647720337 =============\n",
      "============= epoch 43 =============\n",
      "============= epoch 43 : loss 0.4270845651626587 =============\n",
      "============= epoch 43 : loss 0.40038245916366577 =============\n",
      "============= epoch 43 : loss 0.40174490213394165 =============\n",
      "============= epoch 43 : loss 0.41243594884872437 =============\n",
      "============= epoch 43 : loss 0.4225783050060272 =============\n",
      "============= epoch 43 : loss 0.4053035378456116 =============\n",
      "============= epoch 43 : loss 0.4036813974380493 =============\n",
      "============= epoch 43 : loss 0.39979177713394165 =============\n",
      "============= epoch 44 =============\n",
      "============= epoch 44 : loss 0.39921730756759644 =============\n",
      "============= epoch 44 : loss 0.40191593766212463 =============\n",
      "============= epoch 44 : loss 0.39961862564086914 =============\n",
      "============= epoch 44 : loss 0.38461530208587646 =============\n",
      "============= epoch 44 : loss 0.4009316563606262 =============\n",
      "============= epoch 44 : loss 0.3845272362232208 =============\n",
      "============= epoch 44 : loss 0.403560996055603 =============\n",
      "============= epoch 44 : loss 0.3860335350036621 =============\n",
      "============= epoch 45 =============\n",
      "============= epoch 45 : loss 0.386313796043396 =============\n",
      "============= epoch 45 : loss 0.3734067976474762 =============\n",
      "============= epoch 45 : loss 0.4010961949825287 =============\n",
      "============= epoch 45 : loss 0.3807179927825928 =============\n",
      "============= epoch 45 : loss 0.3967408239841461 =============\n",
      "============= epoch 45 : loss 0.38523808121681213 =============\n",
      "============= epoch 45 : loss 0.36540117859840393 =============\n",
      "============= epoch 45 : loss 0.3571987450122833 =============\n",
      "============= epoch 46 =============\n",
      "============= epoch 46 : loss 0.3571591377258301 =============\n",
      "============= epoch 46 : loss 0.3721834719181061 =============\n",
      "============= epoch 46 : loss 0.37040388584136963 =============\n",
      "============= epoch 46 : loss 0.3770066499710083 =============\n",
      "============= epoch 46 : loss 0.35112464427948 =============\n",
      "============= epoch 46 : loss 0.37424665689468384 =============\n",
      "============= epoch 46 : loss 0.37617599964141846 =============\n",
      "============= epoch 46 : loss 0.3608732521533966 =============\n",
      "============= epoch 47 =============\n",
      "============= epoch 47 : loss 0.3566792905330658 =============\n",
      "============= epoch 47 : loss 0.36169686913490295 =============\n",
      "============= epoch 47 : loss 0.3771502673625946 =============\n",
      "============= epoch 47 : loss 0.35055312514305115 =============\n",
      "============= epoch 47 : loss 0.35469895601272583 =============\n",
      "============= epoch 47 : loss 0.34783363342285156 =============\n",
      "============= epoch 47 : loss 0.34836751222610474 =============\n",
      "============= epoch 47 : loss 0.33104389905929565 =============\n",
      "============= epoch 48 =============\n",
      "============= epoch 48 : loss 0.34870395064353943 =============\n",
      "============= epoch 48 : loss 0.34391993284225464 =============\n",
      "============= epoch 48 : loss 0.3458632826805115 =============\n",
      "============= epoch 48 : loss 0.3400074541568756 =============\n",
      "============= epoch 48 : loss 0.33781033754348755 =============\n",
      "============= epoch 48 : loss 0.3445911407470703 =============\n",
      "============= epoch 48 : loss 0.3325355052947998 =============\n",
      "============= epoch 48 : loss 0.33161771297454834 =============\n",
      "============= epoch 49 =============\n",
      "============= epoch 49 : loss 0.3406229615211487 =============\n",
      "============= epoch 49 : loss 0.32501155138015747 =============\n",
      "============= epoch 49 : loss 0.321856290102005 =============\n",
      "============= epoch 49 : loss 0.32450270652770996 =============\n",
      "============= epoch 49 : loss 0.3251904845237732 =============\n",
      "============= epoch 49 : loss 0.3117485046386719 =============\n",
      "============= epoch 49 : loss 0.34474945068359375 =============\n",
      "============= epoch 49 : loss 0.3295825123786926 =============\n",
      "============= epoch 50 =============\n",
      "============= epoch 50 : loss 0.3156247138977051 =============\n",
      "============= epoch 50 : loss 0.33044499158859253 =============\n",
      "============= epoch 50 : loss 0.31983956694602966 =============\n",
      "============= epoch 50 : loss 0.3038465082645416 =============\n",
      "============= epoch 50 : loss 0.3245305120944977 =============\n",
      "============= epoch 50 : loss 0.3068210482597351 =============\n",
      "============= epoch 50 : loss 0.3121739327907562 =============\n",
      "============= epoch 50 : loss 0.3076246976852417 =============\n",
      "============= epoch 51 =============\n",
      "============= epoch 51 : loss 0.29366764426231384 =============\n",
      "============= epoch 51 : loss 0.3058162033557892 =============\n",
      "============= epoch 51 : loss 0.3088569939136505 =============\n",
      "============= epoch 51 : loss 0.31176188588142395 =============\n",
      "============= epoch 51 : loss 0.29854482412338257 =============\n",
      "============= epoch 51 : loss 0.3048226833343506 =============\n",
      "============= epoch 51 : loss 0.3041207492351532 =============\n",
      "============= epoch 51 : loss 0.2985483407974243 =============\n",
      "============= epoch 52 =============\n",
      "============= epoch 52 : loss 0.300422340631485 =============\n",
      "============= epoch 52 : loss 0.2892012596130371 =============\n",
      "============= epoch 52 : loss 0.2851021885871887 =============\n",
      "============= epoch 52 : loss 0.2949109673500061 =============\n",
      "============= epoch 52 : loss 0.28283172845840454 =============\n",
      "============= epoch 52 : loss 0.3015693426132202 =============\n",
      "============= epoch 52 : loss 0.28634074330329895 =============\n",
      "============= epoch 52 : loss 0.2882641851902008 =============\n",
      "============= epoch 53 =============\n",
      "============= epoch 53 : loss 0.28827208280563354 =============\n",
      "============= epoch 53 : loss 0.27511969208717346 =============\n",
      "============= epoch 53 : loss 0.2765791714191437 =============\n",
      "============= epoch 53 : loss 0.29043716192245483 =============\n",
      "============= epoch 53 : loss 0.2814239263534546 =============\n",
      "============= epoch 53 : loss 0.27554261684417725 =============\n",
      "============= epoch 53 : loss 0.2847733795642853 =============\n",
      "============= epoch 53 : loss 0.2621816396713257 =============\n",
      "============= epoch 54 =============\n",
      "============= epoch 54 : loss 0.2696388363838196 =============\n",
      "============= epoch 54 : loss 0.2698368728160858 =============\n",
      "============= epoch 54 : loss 0.27033427357673645 =============\n",
      "============= epoch 54 : loss 0.27717894315719604 =============\n",
      "============= epoch 54 : loss 0.26643773913383484 =============\n",
      "============= epoch 54 : loss 0.2729862332344055 =============\n",
      "============= epoch 54 : loss 0.2661047875881195 =============\n",
      "============= epoch 54 : loss 0.25481125712394714 =============\n",
      "============= epoch 55 =============\n",
      "============= epoch 55 : loss 0.2597090005874634 =============\n",
      "============= epoch 55 : loss 0.2636224925518036 =============\n",
      "============= epoch 55 : loss 0.2690852880477905 =============\n",
      "============= epoch 55 : loss 0.25223109126091003 =============\n",
      "============= epoch 55 : loss 0.2637011408805847 =============\n",
      "============= epoch 55 : loss 0.2591775953769684 =============\n",
      "============= epoch 55 : loss 0.2457558810710907 =============\n",
      "============= epoch 55 : loss 0.2517678439617157 =============\n",
      "============= epoch 56 =============\n",
      "============= epoch 56 : loss 0.25383609533309937 =============\n",
      "============= epoch 56 : loss 0.24658362567424774 =============\n",
      "============= epoch 56 : loss 0.2576521933078766 =============\n",
      "============= epoch 56 : loss 0.23654086887836456 =============\n",
      "============= epoch 56 : loss 0.24823573231697083 =============\n",
      "============= epoch 56 : loss 0.24852314591407776 =============\n",
      "============= epoch 56 : loss 0.24143138527870178 =============\n",
      "============= epoch 56 : loss 0.2528233230113983 =============\n"
     ]
    },
    {
     "name": "stdout",
     "output_type": "stream",
     "text": [
      "============= epoch 57 =============\n",
      "============= epoch 57 : loss 0.2489008903503418 =============\n",
      "============= epoch 57 : loss 0.2516794204711914 =============\n",
      "============= epoch 57 : loss 0.23503585159778595 =============\n",
      "============= epoch 57 : loss 0.2305397093296051 =============\n",
      "============= epoch 57 : loss 0.2449197918176651 =============\n",
      "============= epoch 57 : loss 0.23437753319740295 =============\n",
      "============= epoch 57 : loss 0.23377759754657745 =============\n",
      "============= epoch 57 : loss 0.22550040483474731 =============\n",
      "============= epoch 58 =============\n",
      "============= epoch 58 : loss 0.21996143460273743 =============\n",
      "============= epoch 58 : loss 0.22225546836853027 =============\n",
      "============= epoch 58 : loss 0.23223750293254852 =============\n",
      "============= epoch 58 : loss 0.23454658687114716 =============\n",
      "============= epoch 58 : loss 0.2453065812587738 =============\n",
      "============= epoch 58 : loss 0.23581741750240326 =============\n",
      "============= epoch 58 : loss 0.22916929423809052 =============\n",
      "============= epoch 58 : loss 0.21093645691871643 =============\n",
      "============= epoch 59 =============\n",
      "============= epoch 59 : loss 0.20962730050086975 =============\n",
      "============= epoch 59 : loss 0.23275992274284363 =============\n",
      "============= epoch 59 : loss 0.2139185667037964 =============\n",
      "============= epoch 59 : loss 0.23088061809539795 =============\n",
      "============= epoch 59 : loss 0.21027591824531555 =============\n",
      "============= epoch 59 : loss 0.22611063718795776 =============\n",
      "============= epoch 59 : loss 0.21874459087848663 =============\n",
      "============= epoch 59 : loss 0.22089260816574097 =============\n",
      "============= epoch 60 =============\n",
      "============= epoch 60 : loss 0.21389202773571014 =============\n",
      "============= epoch 60 : loss 0.22065198421478271 =============\n",
      "============= epoch 60 : loss 0.21497732400894165 =============\n",
      "============= epoch 60 : loss 0.20761962234973907 =============\n",
      "============= epoch 60 : loss 0.21234123408794403 =============\n",
      "============= epoch 60 : loss 0.20309174060821533 =============\n",
      "============= epoch 60 : loss 0.20801377296447754 =============\n",
      "============= epoch 60 : loss 0.2155923843383789 =============\n",
      "============= epoch 61 =============\n",
      "============= epoch 61 : loss 0.2113877236843109 =============\n",
      "============= epoch 61 : loss 0.2072618454694748 =============\n",
      "============= epoch 61 : loss 0.20823577046394348 =============\n",
      "============= epoch 61 : loss 0.1992255598306656 =============\n",
      "============= epoch 61 : loss 0.1995103359222412 =============\n",
      "============= epoch 61 : loss 0.20125950872898102 =============\n",
      "============= epoch 61 : loss 0.20681501924991608 =============\n",
      "============= epoch 61 : loss 0.1966315656900406 =============\n",
      "============= epoch 62 =============\n",
      "============= epoch 62 : loss 0.19101502001285553 =============\n",
      "============= epoch 62 : loss 0.21329399943351746 =============\n",
      "============= epoch 62 : loss 0.19416318833827972 =============\n",
      "============= epoch 62 : loss 0.1959078311920166 =============\n",
      "============= epoch 62 : loss 0.19855909049510956 =============\n",
      "============= epoch 62 : loss 0.20029455423355103 =============\n",
      "============= epoch 62 : loss 0.19093236327171326 =============\n",
      "============= epoch 62 : loss 0.18446741998195648 =============\n",
      "============= epoch 63 =============\n",
      "============= epoch 63 : loss 0.18959027528762817 =============\n",
      "============= epoch 63 : loss 0.1901526302099228 =============\n",
      "============= epoch 63 : loss 0.19562400877475739 =============\n",
      "============= epoch 63 : loss 0.1769174188375473 =============\n",
      "============= epoch 63 : loss 0.19237613677978516 =============\n",
      "============= epoch 63 : loss 0.19125431776046753 =============\n",
      "============= epoch 63 : loss 0.18878456950187683 =============\n",
      "============= epoch 63 : loss 0.1878027766942978 =============\n",
      "============= epoch 64 =============\n",
      "============= epoch 64 : loss 0.191908061504364 =============\n",
      "============= epoch 64 : loss 0.1909613311290741 =============\n",
      "============= epoch 64 : loss 0.1892775297164917 =============\n",
      "============= epoch 64 : loss 0.18222323060035706 =============\n",
      "============= epoch 64 : loss 0.16915464401245117 =============\n",
      "============= epoch 64 : loss 0.17925773561000824 =============\n",
      "============= epoch 64 : loss 0.17661243677139282 =============\n",
      "============= epoch 64 : loss 0.17783325910568237 =============\n",
      "============= epoch 65 =============\n",
      "============= epoch 65 : loss 0.18619434535503387 =============\n",
      "============= epoch 65 : loss 0.17954334616661072 =============\n",
      "============= epoch 65 : loss 0.17242805659770966 =============\n",
      "============= epoch 65 : loss 0.1826542317867279 =============\n",
      "============= epoch 65 : loss 0.17314958572387695 =============\n",
      "============= epoch 65 : loss 0.17326056957244873 =============\n",
      "============= epoch 65 : loss 0.1664903163909912 =============\n",
      "============= epoch 65 : loss 0.17125847935676575 =============\n",
      "============= epoch 66 =============\n",
      "============= epoch 66 : loss 0.1726093292236328 =============\n",
      "============= epoch 66 : loss 0.17644144594669342 =============\n",
      "============= epoch 66 : loss 0.18059633672237396 =============\n",
      "============= epoch 66 : loss 0.16173778474330902 =============\n",
      "============= epoch 66 : loss 0.16586482524871826 =============\n",
      "============= epoch 66 : loss 0.15870414674282074 =============\n",
      "============= epoch 66 : loss 0.16931797564029694 =============\n",
      "============= epoch 66 : loss 0.17141105234622955 =============\n",
      "============= epoch 67 =============\n",
      "============= epoch 67 : loss 0.16130328178405762 =============\n",
      "============= epoch 67 : loss 0.17145530879497528 =============\n",
      "============= epoch 67 : loss 0.1706736981868744 =============\n",
      "============= epoch 67 : loss 0.15937477350234985 =============\n",
      "============= epoch 67 : loss 0.16734547913074493 =============\n",
      "============= epoch 67 : loss 0.16198039054870605 =============\n",
      "============= epoch 67 : loss 0.1528906524181366 =============\n",
      "============= epoch 67 : loss 0.16360384225845337 =============\n",
      "============= epoch 68 =============\n",
      "============= epoch 68 : loss 0.15177743136882782 =============\n",
      "============= epoch 68 : loss 0.15747947990894318 =============\n",
      "============= epoch 68 : loss 0.16092903912067413 =============\n",
      "============= epoch 68 : loss 0.16058014333248138 =============\n",
      "============= epoch 68 : loss 0.15408581495285034 =============\n",
      "============= epoch 68 : loss 0.1483595222234726 =============\n",
      "============= epoch 68 : loss 0.15984341502189636 =============\n",
      "============= epoch 68 : loss 0.17327091097831726 =============\n",
      "============= epoch 69 =============\n",
      "============= epoch 69 : loss 0.15152664482593536 =============\n",
      "============= epoch 69 : loss 0.15004096925258636 =============\n",
      "============= epoch 69 : loss 0.15090535581111908 =============\n",
      "============= epoch 69 : loss 0.1475047916173935 =============\n",
      "============= epoch 69 : loss 0.1535729467868805 =============\n",
      "============= epoch 69 : loss 0.15973520278930664 =============\n",
      "============= epoch 69 : loss 0.1573677361011505 =============\n",
      "============= epoch 69 : loss 0.14979255199432373 =============\n",
      "============= epoch 70 =============\n",
      "============= epoch 70 : loss 0.141281858086586 =============\n",
      "============= epoch 70 : loss 0.15178801119327545 =============\n",
      "============= epoch 70 : loss 0.14353252947330475 =============\n",
      "============= epoch 70 : loss 0.15869800746440887 =============\n",
      "============= epoch 70 : loss 0.1477132886648178 =============\n",
      "============= epoch 70 : loss 0.153839573264122 =============\n",
      "============= epoch 70 : loss 0.13824963569641113 =============\n",
      "============= epoch 70 : loss 0.14490282535552979 =============\n",
      "============= epoch 71 =============\n",
      "============= epoch 71 : loss 0.15253432095050812 =============\n",
      "============= epoch 71 : loss 0.14173176884651184 =============\n",
      "============= epoch 71 : loss 0.13713829219341278 =============\n",
      "============= epoch 71 : loss 0.14005696773529053 =============\n",
      "============= epoch 71 : loss 0.14371667802333832 =============\n",
      "============= epoch 71 : loss 0.1383664906024933 =============\n",
      "============= epoch 71 : loss 0.14440660178661346 =============\n",
      "============= epoch 71 : loss 0.14405950903892517 =============\n",
      "============= epoch 72 =============\n",
      "============= epoch 72 : loss 0.1416454017162323 =============\n",
      "============= epoch 72 : loss 0.1442396342754364 =============\n",
      "============= epoch 72 : loss 0.13998934626579285 =============\n",
      "============= epoch 72 : loss 0.13404278457164764 =============\n",
      "============= epoch 72 : loss 0.14013302326202393 =============\n"
     ]
    },
    {
     "name": "stdout",
     "output_type": "stream",
     "text": [
      "============= epoch 72 : loss 0.13378199934959412 =============\n",
      "============= epoch 72 : loss 0.13880635797977448 =============\n",
      "============= epoch 72 : loss 0.13104678690433502 =============\n",
      "============= epoch 73 =============\n",
      "============= epoch 73 : loss 0.13087089359760284 =============\n",
      "============= epoch 73 : loss 0.14031322300434113 =============\n",
      "============= epoch 73 : loss 0.12468542158603668 =============\n",
      "============= epoch 73 : loss 0.13754220306873322 =============\n",
      "============= epoch 73 : loss 0.1327369213104248 =============\n",
      "============= epoch 73 : loss 0.12703697383403778 =============\n",
      "============= epoch 73 : loss 0.14190079271793365 =============\n",
      "============= epoch 73 : loss 0.13497255742549896 =============\n",
      "============= epoch 74 =============\n",
      "============= epoch 74 : loss 0.13069187104701996 =============\n",
      "============= epoch 74 : loss 0.13141700625419617 =============\n",
      "============= epoch 74 : loss 0.12767477333545685 =============\n",
      "============= epoch 74 : loss 0.13747559487819672 =============\n",
      "============= epoch 74 : loss 0.12632781267166138 =============\n",
      "============= epoch 74 : loss 0.12277799099683762 =============\n",
      "============= epoch 74 : loss 0.129999041557312 =============\n",
      "============= epoch 74 : loss 0.13043609261512756 =============\n",
      "============= epoch 75 =============\n",
      "============= epoch 75 : loss 0.13043448328971863 =============\n",
      "============= epoch 75 : loss 0.12831303477287292 =============\n",
      "============= epoch 75 : loss 0.13268758356571198 =============\n",
      "============= epoch 75 : loss 0.11844833940267563 =============\n",
      "============= epoch 75 : loss 0.11750464141368866 =============\n",
      "============= epoch 75 : loss 0.12675152719020844 =============\n",
      "============= epoch 75 : loss 0.12232183665037155 =============\n",
      "============= epoch 75 : loss 0.12903550267219543 =============\n",
      "============= epoch 76 =============\n",
      "============= epoch 76 : loss 0.12149709463119507 =============\n",
      "============= epoch 76 : loss 0.12176784127950668 =============\n",
      "============= epoch 76 : loss 0.12600256502628326 =============\n",
      "============= epoch 76 : loss 0.11837100237607956 =============\n",
      "============= epoch 76 : loss 0.1271561086177826 =============\n",
      "============= epoch 76 : loss 0.12336649745702744 =============\n",
      "============= epoch 76 : loss 0.1138799637556076 =============\n",
      "============= epoch 76 : loss 0.12270501255989075 =============\n",
      "============= epoch 77 =============\n",
      "============= epoch 77 : loss 0.11933114379644394 =============\n",
      "============= epoch 77 : loss 0.1127510666847229 =============\n",
      "============= epoch 77 : loss 0.11888200044631958 =============\n",
      "============= epoch 77 : loss 0.1255902349948883 =============\n",
      "============= epoch 77 : loss 0.11861037462949753 =============\n",
      "============= epoch 77 : loss 0.1178070604801178 =============\n",
      "============= epoch 77 : loss 0.11737649887800217 =============\n",
      "============= epoch 77 : loss 0.11465397477149963 =============\n",
      "============= epoch 78 =============\n",
      "============= epoch 78 : loss 0.12189527601003647 =============\n",
      "============= epoch 78 : loss 0.11126206815242767 =============\n",
      "============= epoch 78 : loss 0.11749058216810226 =============\n",
      "============= epoch 78 : loss 0.10767360031604767 =============\n",
      "============= epoch 78 : loss 0.12248632311820984 =============\n",
      "============= epoch 78 : loss 0.11426185816526413 =============\n",
      "============= epoch 78 : loss 0.11146177351474762 =============\n",
      "============= epoch 78 : loss 0.11073015630245209 =============\n",
      "============= epoch 79 =============\n",
      "============= epoch 79 : loss 0.110369011759758 =============\n",
      "============= epoch 79 : loss 0.1115187332034111 =============\n",
      "============= epoch 79 : loss 0.11924012005329132 =============\n",
      "============= epoch 79 : loss 0.11579710245132446 =============\n",
      "============= epoch 79 : loss 0.10436373203992844 =============\n",
      "============= epoch 79 : loss 0.10726011544466019 =============\n",
      "============= epoch 79 : loss 0.11444015055894852 =============\n",
      "============= epoch 79 : loss 0.10848605632781982 =============\n",
      "============= epoch 80 =============\n",
      "============= epoch 80 : loss 0.10777704417705536 =============\n",
      "============= epoch 80 : loss 0.11133240163326263 =============\n",
      "============= epoch 80 : loss 0.10410088300704956 =============\n",
      "============= epoch 80 : loss 0.11272785067558289 =============\n",
      "============= epoch 80 : loss 0.10764860361814499 =============\n",
      "============= epoch 80 : loss 0.10728335380554199 =============\n",
      "============= epoch 80 : loss 0.10230031609535217 =============\n",
      "============= epoch 80 : loss 0.11490640044212341 =============\n",
      "============= epoch 81 =============\n",
      "============= epoch 81 : loss 0.10120714455842972 =============\n",
      "============= epoch 81 : loss 0.10647568851709366 =============\n",
      "============= epoch 81 : loss 0.10458514839410782 =============\n",
      "============= epoch 81 : loss 0.10274231433868408 =============\n",
      "============= epoch 81 : loss 0.10258173942565918 =============\n",
      "============= epoch 81 : loss 0.10433555394411087 =============\n",
      "============= epoch 81 : loss 0.11266756802797318 =============\n",
      "============= epoch 81 : loss 0.10888804495334625 =============\n",
      "============= epoch 82 =============\n",
      "============= epoch 82 : loss 0.10043340176343918 =============\n",
      "============= epoch 82 : loss 0.10566829144954681 =============\n",
      "============= epoch 82 : loss 0.10500071197748184 =============\n",
      "============= epoch 82 : loss 0.10473383963108063 =============\n",
      "============= epoch 82 : loss 0.10261882841587067 =============\n",
      "============= epoch 82 : loss 0.09594881534576416 =============\n",
      "============= epoch 82 : loss 0.10387744009494781 =============\n",
      "============= epoch 82 : loss 0.10138731449842453 =============\n",
      "============= epoch 83 =============\n",
      "============= epoch 83 : loss 0.09971806406974792 =============\n",
      "============= epoch 83 : loss 0.10337765514850616 =============\n",
      "============= epoch 83 : loss 0.10166680067777634 =============\n",
      "============= epoch 83 : loss 0.10019996762275696 =============\n",
      "============= epoch 83 : loss 0.09464924782514572 =============\n",
      "============= epoch 83 : loss 0.10141199082136154 =============\n",
      "============= epoch 83 : loss 0.09553834795951843 =============\n",
      "============= epoch 83 : loss 0.10238020122051239 =============\n",
      "============= epoch 84 =============\n",
      "============= epoch 84 : loss 0.10467153042554855 =============\n",
      "============= epoch 84 : loss 0.09426013380289078 =============\n",
      "============= epoch 84 : loss 0.09894663095474243 =============\n",
      "============= epoch 84 : loss 0.0950252041220665 =============\n",
      "============= epoch 84 : loss 0.09750866144895554 =============\n",
      "============= epoch 84 : loss 0.09808801114559174 =============\n",
      "============= epoch 84 : loss 0.08922097086906433 =============\n",
      "============= epoch 84 : loss 0.09942935407161713 =============\n",
      "============= epoch 85 =============\n",
      "============= epoch 85 : loss 0.09133993834257126 =============\n",
      "============= epoch 85 : loss 0.09068666398525238 =============\n",
      "============= epoch 85 : loss 0.10287192463874817 =============\n",
      "============= epoch 85 : loss 0.09310401976108551 =============\n",
      "============= epoch 85 : loss 0.09372219443321228 =============\n",
      "============= epoch 85 : loss 0.08842163532972336 =============\n",
      "============= epoch 85 : loss 0.09330783784389496 =============\n",
      "============= epoch 85 : loss 0.1056002825498581 =============\n",
      "============= epoch 86 =============\n",
      "============= epoch 86 : loss 0.0893787071108818 =============\n",
      "============= epoch 86 : loss 0.09602508693933487 =============\n",
      "============= epoch 86 : loss 0.09852426499128342 =============\n",
      "============= epoch 86 : loss 0.08894525468349457 =============\n",
      "============= epoch 86 : loss 0.09472855925559998 =============\n",
      "============= epoch 86 : loss 0.08883737027645111 =============\n",
      "============= epoch 86 : loss 0.08937086910009384 =============\n",
      "============= epoch 86 : loss 0.09183593839406967 =============\n",
      "============= epoch 87 =============\n",
      "============= epoch 87 : loss 0.09576631337404251 =============\n",
      "============= epoch 87 : loss 0.09382574260234833 =============\n",
      "============= epoch 87 : loss 0.08796677738428116 =============\n",
      "============= epoch 87 : loss 0.08237619698047638 =============\n",
      "============= epoch 87 : loss 0.09625963121652603 =============\n",
      "============= epoch 87 : loss 0.08523023873567581 =============\n",
      "============= epoch 87 : loss 0.08788663148880005 =============\n",
      "============= epoch 87 : loss 0.0897151529788971 =============\n",
      "============= epoch 88 =============\n",
      "============= epoch 88 : loss 0.09108076244592667 =============\n",
      "============= epoch 88 : loss 0.09279227256774902 =============\n",
      "============= epoch 88 : loss 0.07780518382787704 =============\n",
      "============= epoch 88 : loss 0.09067454189062119 =============\n",
      "============= epoch 88 : loss 0.08688130974769592 =============\n",
      "============= epoch 88 : loss 0.08736826479434967 =============\n",
      "============= epoch 88 : loss 0.08976063877344131 =============\n",
      "============= epoch 88 : loss 0.08445792645215988 =============\n",
      "============= epoch 89 =============\n",
      "============= epoch 89 : loss 0.09112999588251114 =============\n",
      "============= epoch 89 : loss 0.08757255971431732 =============\n",
      "============= epoch 89 : loss 0.08942732214927673 =============\n",
      "============= epoch 89 : loss 0.08491949737071991 =============\n",
      "============= epoch 89 : loss 0.07993905246257782 =============\n",
      "============= epoch 89 : loss 0.0834483727812767 =============\n",
      "============= epoch 89 : loss 0.08041450381278992 =============\n",
      "============= epoch 89 : loss 0.08791127800941467 =============\n",
      "============= epoch 90 =============\n",
      "============= epoch 90 : loss 0.08470012992620468 =============\n",
      "============= epoch 90 : loss 0.08283060044050217 =============\n",
      "============= epoch 90 : loss 0.08625636249780655 =============\n",
      "============= epoch 90 : loss 0.08657659590244293 =============\n",
      "============= epoch 90 : loss 0.08309544622898102 =============\n",
      "============= epoch 90 : loss 0.08004147559404373 =============\n",
      "============= epoch 90 : loss 0.08443941175937653 =============\n",
      "============= epoch 90 : loss 0.0794319435954094 =============\n",
      "============= epoch 91 =============\n",
      "============= epoch 91 : loss 0.0755569264292717 =============\n",
      "============= epoch 91 : loss 0.08319370448589325 =============\n",
      "============= epoch 91 : loss 0.07567529380321503 =============\n",
      "============= epoch 91 : loss 0.08286388963460922 =============\n",
      "============= epoch 91 : loss 0.08007945120334625 =============\n",
      "============= epoch 91 : loss 0.0847209170460701 =============\n",
      "============= epoch 91 : loss 0.08445599675178528 =============\n",
      "============= epoch 91 : loss 0.08684974163770676 =============\n",
      "============= epoch 92 =============\n",
      "============= epoch 92 : loss 0.08729717135429382 =============\n",
      "============= epoch 92 : loss 0.07765083760023117 =============\n",
      "============= epoch 92 : loss 0.07821977138519287 =============\n",
      "============= epoch 92 : loss 0.08282245695590973 =============\n",
      "============= epoch 92 : loss 0.07627993822097778 =============\n",
      "============= epoch 92 : loss 0.08229413628578186 =============\n",
      "============= epoch 92 : loss 0.07604893296957016 =============\n",
      "============= epoch 92 : loss 0.0759618729352951 =============\n",
      "============= epoch 93 =============\n",
      "============= epoch 93 : loss 0.07885393500328064 =============\n",
      "============= epoch 93 : loss 0.07506144791841507 =============\n",
      "============= epoch 93 : loss 0.0822896808385849 =============\n",
      "============= epoch 93 : loss 0.08033429831266403 =============\n",
      "============= epoch 93 : loss 0.08181373029947281 =============\n",
      "============= epoch 93 : loss 0.07455296814441681 =============\n",
      "============= epoch 93 : loss 0.07488220185041428 =============\n",
      "============= epoch 93 : loss 0.07427167147397995 =============\n",
      "============= epoch 94 =============\n",
      "============= epoch 94 : loss 0.0762164294719696 =============\n"
     ]
    },
    {
     "name": "stdout",
     "output_type": "stream",
     "text": [
      "============= epoch 94 : loss 0.07872439175844193 =============\n",
      "============= epoch 94 : loss 0.07260123640298843 =============\n",
      "============= epoch 94 : loss 0.07921261340379715 =============\n",
      "============= epoch 94 : loss 0.0747280940413475 =============\n",
      "============= epoch 94 : loss 0.07887300848960876 =============\n",
      "============= epoch 94 : loss 0.07215239852666855 =============\n",
      "============= epoch 94 : loss 0.07651825994253159 =============\n",
      "============= epoch 95 =============\n",
      "============= epoch 95 : loss 0.08606074750423431 =============\n",
      "============= epoch 95 : loss 0.07001286000013351 =============\n",
      "============= epoch 95 : loss 0.07781898975372314 =============\n",
      "============= epoch 95 : loss 0.07247406989336014 =============\n",
      "============= epoch 95 : loss 0.07361877709627151 =============\n",
      "============= epoch 95 : loss 0.07035336643457413 =============\n",
      "============= epoch 95 : loss 0.07341744005680084 =============\n",
      "============= epoch 95 : loss 0.07102635502815247 =============\n",
      "============= epoch 96 =============\n",
      "============= epoch 96 : loss 0.0719931572675705 =============\n",
      "============= epoch 96 : loss 0.07307067513465881 =============\n",
      "============= epoch 96 : loss 0.07398515194654465 =============\n",
      "============= epoch 96 : loss 0.07863951474428177 =============\n",
      "============= epoch 96 : loss 0.06680440157651901 =============\n",
      "============= epoch 96 : loss 0.07590779662132263 =============\n",
      "============= epoch 96 : loss 0.07551565766334534 =============\n",
      "============= epoch 96 : loss 0.06554992496967316 =============\n",
      "============= epoch 97 =============\n",
      "============= epoch 97 : loss 0.06679385900497437 =============\n",
      "============= epoch 97 : loss 0.06869658082723618 =============\n",
      "============= epoch 97 : loss 0.07468146830797195 =============\n",
      "============= epoch 97 : loss 0.07462150603532791 =============\n",
      "============= epoch 97 : loss 0.07331529259681702 =============\n",
      "============= epoch 97 : loss 0.07226896286010742 =============\n",
      "============= epoch 97 : loss 0.0673355832695961 =============\n",
      "============= epoch 97 : loss 0.07263744622468948 =============\n",
      "============= epoch 98 =============\n",
      "============= epoch 98 : loss 0.06942427158355713 =============\n",
      "============= epoch 98 : loss 0.07146328687667847 =============\n",
      "============= epoch 98 : loss 0.06643366068601608 =============\n",
      "============= epoch 98 : loss 0.06978503614664078 =============\n",
      "============= epoch 98 : loss 0.08042732626199722 =============\n",
      "============= epoch 98 : loss 0.06779137253761292 =============\n",
      "============= epoch 98 : loss 0.0644281655550003 =============\n",
      "============= epoch 98 : loss 0.06789723038673401 =============\n",
      "============= epoch 99 =============\n",
      "============= epoch 99 : loss 0.06180282682180405 =============\n",
      "============= epoch 99 : loss 0.07268932461738586 =============\n",
      "============= epoch 99 : loss 0.06825771927833557 =============\n",
      "============= epoch 99 : loss 0.07305089384317398 =============\n",
      "============= epoch 99 : loss 0.06961284577846527 =============\n",
      "============= epoch 99 : loss 0.07031261920928955 =============\n",
      "============= epoch 99 : loss 0.06957978755235672 =============\n",
      "============= epoch 99 : loss 0.059566475450992584 =============\n"
     ]
    }
   ],
   "source": [
    "train_model(model, optimizer, train_data_loader, loss_module)"
   ]
  },
  {
   "cell_type": "markdown",
   "metadata": {
    "id": "Sh-F2kS6mJqE"
   },
   "source": [
    "#### Saving a model\n",
    "\n",
    "After finish training a model, we save the model to disk so that we can load the same weights at a later time. For this, we extract the so-called `state_dict` from the model which contains all learnable parameters. For our simple model, the state dict contains the following entries:"
   ]
  },
  {
   "cell_type": "code",
   "execution_count": 51,
   "metadata": {
    "id": "k9RxJ53WmJqE"
   },
   "outputs": [
    {
     "name": "stdout",
     "output_type": "stream",
     "text": [
      "OrderedDict([('linear1.weight', tensor([[-1.8003,  2.2961],\n",
      "        [-1.9059, -1.8571],\n",
      "        [ 2.5836, -2.1729],\n",
      "        [ 0.7605,  1.0176]])), ('linear1.bias', tensor([ 0.8196,  0.4625,  1.1094, -1.4371])), ('linear2.weight', tensor([[-2.7194, -2.5380, -3.0298, -1.5229]])), ('linear2.bias', tensor([0.4799]))])\n"
     ]
    }
   ],
   "source": [
    "state_dict = model.state_dict()\n",
    "print(state_dict)"
   ]
  },
  {
   "cell_type": "markdown",
   "metadata": {
    "id": "GjDUyrZtmJqE"
   },
   "source": [
    "To save the state dictionary, we can use `torch.save`:"
   ]
  },
  {
   "cell_type": "code",
   "execution_count": 52,
   "metadata": {
    "id": "3AhSpGhPmJqE"
   },
   "outputs": [],
   "source": [
    "# torch.save(object, filename). For the filename, any extension can be used\n",
    "torch.save(state_dict, \"our_model.tar\")"
   ]
  },
  {
   "cell_type": "markdown",
   "metadata": {
    "id": "X0UtccmFmJqE"
   },
   "source": [
    "To load a model from a state dict, we use the function `torch.load` to load the state dict from the disk, and the module function `load_state_dict` to overwrite our parameters with the new values:"
   ]
  },
  {
   "cell_type": "code",
   "execution_count": 53,
   "metadata": {
    "id": "TloDFJiJmJqE"
   },
   "outputs": [
    {
     "name": "stdout",
     "output_type": "stream",
     "text": [
      "Original model\n",
      " OrderedDict([('linear1.weight', tensor([[-1.8003,  2.2961],\n",
      "        [-1.9059, -1.8571],\n",
      "        [ 2.5836, -2.1729],\n",
      "        [ 0.7605,  1.0176]])), ('linear1.bias', tensor([ 0.8196,  0.4625,  1.1094, -1.4371])), ('linear2.weight', tensor([[-2.7194, -2.5380, -3.0298, -1.5229]])), ('linear2.bias', tensor([0.4799]))])\n",
      "\n",
      "Loaded model\n",
      " OrderedDict([('linear1.weight', tensor([[-1.8003,  2.2961],\n",
      "        [-1.9059, -1.8571],\n",
      "        [ 2.5836, -2.1729],\n",
      "        [ 0.7605,  1.0176]])), ('linear1.bias', tensor([ 0.8196,  0.4625,  1.1094, -1.4371])), ('linear2.weight', tensor([[-2.7194, -2.5380, -3.0298, -1.5229]])), ('linear2.bias', tensor([0.4799]))])\n"
     ]
    }
   ],
   "source": [
    "# Load state dict from the disk (make sure it is the same name as above)\n",
    "state_dict = torch.load(\"our_model.tar\")\n",
    "\n",
    "# Create a new model and load the state\n",
    "new_model = SimpleClassifier(num_inputs=2, num_hidden=4, num_outputs=1)\n",
    "new_model.load_state_dict(state_dict)\n",
    "\n",
    "# Verify that the parameters are the same\n",
    "print(\"Original model\\n\", model.state_dict())\n",
    "print(\"\\nLoaded model\\n\", new_model.state_dict())"
   ]
  },
  {
   "cell_type": "markdown",
   "metadata": {
    "id": "CupSbGPvmJqF"
   },
   "source": [
    "A detailed tutorial on saving and loading models in PyTorch can be found [here](https://pytorch.org/tutorials/beginner/saving_loading_models.html)."
   ]
  },
  {
   "cell_type": "markdown",
   "metadata": {
    "id": "osOyNndimJqF"
   },
   "source": [
    "### Evaluation\n",
    "\n",
    "Once we have trained a model, it is time to evaluate it on a held-out test set. As our dataset consist of randomly generated data points, we need to first create a test set with a corresponding data loader."
   ]
  },
  {
   "cell_type": "code",
   "execution_count": 54,
   "metadata": {
    "id": "7M3v4oDtmJqF"
   },
   "outputs": [],
   "source": [
    "test_dataset = XORDataset(size=500)\n",
    "# drop_last -> Don't drop the last batch although it is smaller than 128\n",
    "test_data_loader = data.DataLoader(test_dataset, batch_size=128, shuffle=False, drop_last=False) "
   ]
  },
  {
   "cell_type": "markdown",
   "metadata": {
    "id": "I-nBwNpGmJqF"
   },
   "source": [
    "As metric, we will use accuracy which is calculated as follows:\n",
    "\n",
    "$$acc = \\frac{\\#\\text{correct predictions}}{\\#\\text{all predictions}} = \\frac{TP+TN}{TP+TN+FP+FN}$$\n",
    "\n",
    "where TP are the true positives, TN true negatives, FP false positives, and FN the fale negatives. \n",
    "\n",
    "When evaluating the model, we don't need to keep track of the computation graph as we don't intend to calculate the gradients. This reduces the required memory and speed up the model. In PyTorch, we can deactivate the computation graph using `with torch.no_grad(): ...`. Remember to additionally set the model to eval mode."
   ]
  },
  {
   "cell_type": "code",
   "execution_count": 55,
   "metadata": {
    "id": "EiTv1q-nmJqF"
   },
   "outputs": [],
   "source": [
    "def eval_model(model, data_loader):\n",
    "    model.eval() # Set model to eval mode\n",
    "    true_preds, num_preds = 0., 0.\n",
    "    \n",
    "    with torch.no_grad(): # Deactivate gradients for the following code\n",
    "        for data_inputs, data_labels in data_loader:\n",
    "            \n",
    "            ## TODO: Step 1 - Move data to device\n",
    "            data_inputs, data_labels = data_inputs.to(device), data_labels.to(device)\n",
    "            \n",
    "            ## TODO: Step 2 - Run the model on the input data\n",
    "            preds = model(data_inputs)\n",
    "            preds = preds.squeeze(dim=1)\n",
    "            preds = torch.sigmoid(preds) # Sigmoid to map predictions between 0 and 1\n",
    "            \n",
    "            ## TODO: Step 3 - Determine binary predictions of the model\n",
    "            pred_labels = (preds >= 0.5).long() # Binarize predictions to 0 and 1\n",
    "            \n",
    "            ## TODO: Step 4 - Keep records of predictions for the accuracy metric (true_preds=TP+TN, num_preds=TP+TN+FP+FN)\n",
    "            true_preds += (pred_labels == data_labels).sum()\n",
    "            num_preds += data_labels.shape[0]\n",
    "            \n",
    "    acc = true_preds / num_preds\n",
    "    print(\"Accuracy of the model: %4.2f%%\" % (100.0*acc))"
   ]
  },
  {
   "cell_type": "code",
   "execution_count": 56,
   "metadata": {
    "id": "xef-U9pWmJqG"
   },
   "outputs": [
    {
     "name": "stdout",
     "output_type": "stream",
     "text": [
      "Accuracy of the model: 100.00%\n"
     ]
    }
   ],
   "source": [
    "eval_model(model, test_data_loader)"
   ]
  },
  {
   "cell_type": "markdown",
   "metadata": {
    "id": "spzqqn-gmJqG"
   },
   "source": [
    "If we trained our model correctly, we should see a score close to 100% accuracy. However, this is only possible because of our simple task, and unfortunately, we usually don't get such high scores on test sets of more complex tasks."
   ]
  },
  {
   "cell_type": "markdown",
   "metadata": {
    "id": "sTAqvA0QmJqG"
   },
   "source": [
    "#### Visualizing classification boundaries\n",
    "\n",
    "To visualize what our model has learned, we can perform a prediction for every data point in a range of $[-0.5, 1.5]$, and visualize the predicted class as in the sample figure at the beginning of this section. This shows where the model has created decision boundaries, and which points would be classified as $0$, and which as $1$. We therefore get a background image out of blue (class 0) and orange (class 1). The spots where the model is uncertain we will see a blurry overlap. The specific code is less relevant compared to the output figure which should hopefully show us a clear separation of classes:"
   ]
  },
  {
   "cell_type": "code",
   "execution_count": 57,
   "metadata": {
    "id": "rXuMK9CxmJqG"
   },
   "outputs": [
    {
     "data": {
      "image/png": "[encoded data removed]",
      "text/plain": [
       "<Figure size 288x288 with 1 Axes>"
      ]
     },
     "metadata": {},
     "output_type": "display_data"
    }
   ],
   "source": [
    "@torch.no_grad() # Decorator, same effect as \"with torch.no_grad(): ...\" over the whole function.\n",
    "def visualize_classification(model, data, label):\n",
    "    if isinstance(data, torch.Tensor):\n",
    "        data = data.cpu().numpy()\n",
    "    if isinstance(label, torch.Tensor):\n",
    "        label = label.cpu().numpy()\n",
    "    data_0 = data[label == 0]\n",
    "    data_1 = data[label == 1]\n",
    "    \n",
    "    plt.figure(figsize=(4,4))\n",
    "    plt.scatter(data_0[:,0], data_0[:,1], edgecolor=\"#333\", label=\"Class 0\")\n",
    "    plt.scatter(data_1[:,0], data_1[:,1], edgecolor=\"#333\", label=\"Class 1\")\n",
    "    plt.title(\"Dataset samples\")\n",
    "    plt.ylabel(r\"$x_2$\")\n",
    "    plt.xlabel(r\"$x_1$\")\n",
    "    plt.legend()\n",
    "    \n",
    "    # Let's make use of a lot of operations we have learned above\n",
    "    model.to(device)\n",
    "    c0 = torch.Tensor(to_rgba(\"C0\")).to(device)\n",
    "    c1 = torch.Tensor(to_rgba(\"C1\")).to(device)\n",
    "    x1 = torch.arange(-0.5, 1.5, step=0.01, device=device)\n",
    "    x2 = torch.arange(-0.5, 1.5, step=0.01, device=device)\n",
    "    xx1, xx2 = torch.meshgrid(x1, x2) # Meshgrid function as in numpy\n",
    "    model_inputs = torch.stack([xx1, xx2], dim=-1)\n",
    "    preds = model(model_inputs)\n",
    "    preds = torch.sigmoid(preds)\n",
    "    output_image = preds * c0[None,None] + (1 - preds) * c1[None,None] # Specifying \"None\" in a dimension creates a new one\n",
    "    output_image = output_image.cpu().numpy() # Convert to numpy array. This only works for tensors on CPU, hence first push to CPU\n",
    "    plt.imshow(output_image, origin='upper', extent=(-0.5, 1.5, -0.5, 1.5))\n",
    "    plt.grid(False)\n",
    "\n",
    "visualize_classification(model, dataset.data, dataset.label)\n",
    "plt.show()"
   ]
  },
  {
   "cell_type": "markdown",
   "metadata": {
    "id": "-cyPSTdumJqH"
   },
   "source": [
    "The decision boundaries might not look exactly as in the figure in the preamble of this section which can be caused by running it on CPU or a different GPU architecture. Nevertheless, the result on the accuracy metric should be the approximately the same. "
   ]
  },
  {
   "cell_type": "markdown",
   "metadata": {
    "id": "YV7WW_PrmJqH"
   },
   "source": [
    "## Pytorch Tutorials\n",
    "\n",
    "we recommend the official [tutorial website](https://pytorch.org/tutorials/) that contains many tutorials on various topics."
   ]
  },
  {
   "cell_type": "code",
   "execution_count": null,
   "metadata": {},
   "outputs": [],
   "source": []
  }
 ],
 "metadata": {
  "colab": {
   "name": "Introduction_to_PyTorch_empty.ipynb",
   "provenance": []
  },
  "kernelspec": {
   "display_name": "Python 3",
   "language": "python",
   "name": "python3"
  },
  "language_info": {
   "codemirror_mode": {
    "name": "ipython",
    "version": 3
   },
   "file_extension": ".py",
   "mimetype": "text/x-python",
   "name": "python",
   "nbconvert_exporter": "python",
   "pygments_lexer": "ipython3",
   "version": "3.7.7"
  }
 },
 "nbformat": 4,
 "nbformat_minor": 1
}
